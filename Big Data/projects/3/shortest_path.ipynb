{
 "cells": [
  {
   "cell_type": "code",
   "execution_count": 3,
   "metadata": {},
   "outputs": [
    {
     "name": "stderr",
     "output_type": "stream",
     "text": [
      "Picked up _JAVA_OPTIONS: \n",
      "Picked up _JAVA_OPTIONS: \n",
      "SLF4J: Class path contains multiple SLF4J bindings.\n",
      "SLF4J: Found binding in [jar:file:/usr/lib/spark3/jars/log4j-slf4j-impl-2.17.2.jar!/org/slf4j/impl/StaticLoggerBinder.class]\n",
      "SLF4J: Found binding in [jar:file:/usr/lib/hadoop/lib/slf4j-log4j12-1.7.25.jar!/org/slf4j/impl/StaticLoggerBinder.class]\n",
      "SLF4J: See http://www.slf4j.org/codes.html#multiple_bindings for an explanation.\n",
      "SLF4J: Actual binding is of type [org.apache.logging.slf4j.Log4jLoggerFactory]\n",
      "Setting default log level to \"WARN\".\n",
      "To adjust logging level use sc.setLogLevel(newLevel). For SparkR, use setLogLevel(newLevel).\n"
     ]
    }
   ],
   "source": [
    "import os\n",
    "import sys\n",
    "\n",
    "SPARK_HOME = \"/usr/lib/spark3\"\n",
    "PYSPARK_PYTHON = \"/opt/conda/envs/dsenv/bin/python\"\n",
    "os.environ[\"PYSPARK_PYTHON\"]= PYSPARK_PYTHON\n",
    "os.environ[\"PYSPARK_DRIVER_PYTHON\"]= PYSPARK_PYTHON\n",
    "os.environ[\"SPARK_HOME\"] = SPARK_HOME\n",
    "\n",
    "PYSPARK_HOME = os.path.join(SPARK_HOME, \"python/lib\")\n",
    "sys.path.insert(0, os.path.join(PYSPARK_HOME, \"py4j-0.10.9.5-src.zip\"))\n",
    "sys.path.insert(0, os.path.join(PYSPARK_HOME, \"pyspark.zip\"))\n",
    "\n",
    "\n",
    "from pyspark import SparkConf\n",
    "from pyspark.sql import SparkSession\n",
    "\n",
    "conf = SparkConf()\n",
    "conf.set(\"spark.ui.port\", \"4099\")\n",
    "\n",
    "spark = SparkSession.builder.config(conf=conf).appName(\"Spark SQL\").getOrCreate()\n",
    "\n",
    "\n",
    "from pyspark.sql.types import *\n",
    "\n",
    "import pyspark.sql.functions as f\n",
    "\n",
    "# spark.stop()"
   ]
  },
  {
   "cell_type": "code",
   "execution_count": null,
   "metadata": {},
   "outputs": [],
   "source": [
    "!hdfs dfs -cat /datasets/twitter/twitter_sample_small.tsv | head -n 5"
   ]
  },
  {
   "cell_type": "code",
   "execution_count": 4,
   "metadata": {},
   "outputs": [],
   "source": [
    "data_path = '/datasets/twitter/twitter_sample_small.tsv'\n",
    "\n",
    "schema = StructType(fields=[\n",
    "    StructField(\"user_id\", StringType()),\n",
    "    StructField(\"follower_id\", StringType())\n",
    "])\n",
    "\n",
    "df = spark.read\\\n",
    "          .schema(schema)\\\n",
    "          .format(\"csv\")\\\n",
    "          .option(\"sep\", \"\\t\")\\\n",
    "          .load(data_path)\n",
    "\n",
    "from pyspark.sql.functions import udf"
   ]
  },
  {
   "cell_type": "code",
   "execution_count": 77,
   "metadata": {},
   "outputs": [],
   "source": [
    "fd = spark.createDataFrame([['2', '1'], ['3', '1'], ['4', '1'], ['5', '2'], ['5', '3'], ['5', '4'], ['2', '3'], ['3', '2']], schema)"
   ]
  },
  {
   "cell_type": "code",
   "execution_count": 78,
   "metadata": {},
   "outputs": [
    {
     "name": "stdout",
     "output_type": "stream",
     "text": [
      "+-------+-----------+\n",
      "|user_id|follower_id|\n",
      "+-------+-----------+\n",
      "|      2|          1|\n",
      "|      3|          1|\n",
      "|      4|          1|\n",
      "|      5|          2|\n",
      "|      5|          3|\n",
      "|      5|          4|\n",
      "|      2|          3|\n",
      "|      3|          2|\n",
      "+-------+-----------+\n",
      "\n"
     ]
    }
   ],
   "source": [
    "fd.show()"
   ]
  },
  {
   "cell_type": "code",
   "execution_count": 85,
   "metadata": {},
   "outputs": [],
   "source": [
    "id_from = '1'\n",
    "id_to = '5'\n",
    "\n",
    "fd = fd.withColumn(\"paths\", udf(lambda: [], ArrayType(StringType()))())\n",
    "fd.cache()\n",
    "\n",
    "# max_length = len(df)\n",
    "max_path_length = fd.count()-1\n",
    "\n",
    "# run BFS and mark visited from id_from to id_to\n",
    "queue_ids = [id_from]\n",
    "while queue_ids:\n",
    "  first_in_queue = queue_ids.pop(0)\n",
    "  neighbours = fd.filter(fd.follower_id == first_in_queue).select('user_id').rdd.flatMap(lambda x: x).collect()\n",
    "  if not neighbours: continue # leaf\n",
    "  if id_to in neighbours: break # found target\n",
    "\n",
    "  filter_length = udf(lambda paths: not paths or len(paths[0].split(',')) < max_path_length, BooleanType())\n",
    "\n",
    "  # add new neighbours which are not visited\n",
    "  new_neighbours = fd.filter(filter_length(fd.paths))\\\n",
    "              .filter(fd.follower_id.isin(neighbours))\\\n",
    "              .select('follower_id').rdd.flatMap(lambda x: x).collect()\n",
    "  queue_ids.extend(list(set(new_neighbours)))\n",
    "\n",
    "  # append node for each path\n",
    "  current_paths = fd.filter(fd.follower_id == first_in_queue).select('paths').rdd.flatMap(lambda x: x).first()\n",
    "  append_path = udf(lambda node: [i+','+node for i in current_paths] if current_paths else [node], ArrayType(StringType()))\n",
    "  fd = fd.withColumn(\"paths\", f.when(fd.follower_id.isin(neighbours), append_path(f.col(\"follower_id\"))).otherwise(f.col(\"paths\")))  \n",
    "\n",
    "is_not_empty_udf = udf(lambda x: len(x) != 0, BooleanType())\n",
    "paths = fd.filter(fd.user_id == id_to).filter(is_not_empty_udf(fd.paths)).select('paths').rdd.flatMap(lambda x: x[0]).collect()\n",
    "paths = [id_from+','+p+','+id_to for p in paths]\n",
    "# print(paths)"
   ]
  },
  {
   "cell_type": "code",
   "execution_count": 86,
   "metadata": {},
   "outputs": [
    {
     "data": {
      "text/plain": [
       "['1,2,5', '1,3,5', '1,4,5']"
      ]
     },
     "execution_count": 86,
     "metadata": {},
     "output_type": "execute_result"
    },
    {
     "name": "stdout",
     "output_type": "stream",
     "text": [
      "24/03/17 06:01:09 WARN BlockManagerMasterEndpoint: No more replicas available for rdd_1429_0 !\n",
      "24/03/17 06:01:09 WARN BlockManagerMasterEndpoint: No more replicas available for rdd_1633_1 !\n",
      "24/03/17 06:01:09 WARN BlockManagerMasterEndpoint: No more replicas available for rdd_1499_1 !\n",
      "24/03/17 06:01:09 WARN BlockManagerMasterEndpoint: No more replicas available for rdd_1499_0 !\n",
      "24/03/17 06:01:09 WARN BlockManagerMasterEndpoint: No more replicas available for rdd_1429_1 !\n",
      "24/03/17 06:01:09 WARN BlockManagerMasterEndpoint: No more replicas available for rdd_1566_0 !\n",
      "24/03/17 06:01:09 WARN BlockManagerMasterEndpoint: No more replicas available for rdd_1288_0 !\n",
      "24/03/17 06:01:09 WARN BlockManagerMasterEndpoint: No more replicas available for rdd_1566_1 !\n",
      "24/03/17 06:01:09 WARN BlockManagerMasterEndpoint: No more replicas available for rdd_1464_1 !\n",
      "24/03/17 06:01:09 WARN BlockManagerMasterEndpoint: No more replicas available for rdd_1633_0 !\n",
      "24/03/17 06:01:09 WARN BlockManagerMasterEndpoint: No more replicas available for rdd_1288_1 !\n",
      "24/03/17 06:01:09 WARN BlockManagerMasterEndpoint: No more replicas available for rdd_1464_0 !\n"
     ]
    }
   ],
   "source": [
    "paths"
   ]
  },
  {
   "cell_type": "code",
   "execution_count": 72,
   "metadata": {},
   "outputs": [
    {
     "data": {
      "text/plain": [
       "[['2'], ['3']]"
      ]
     },
     "execution_count": 72,
     "metadata": {},
     "output_type": "execute_result"
    }
   ],
   "source": [
    "fd.filter(fd.user_id == id_to).filter(is_not_empty_udf(fd.paths)).select('paths').rdd.flatMap(lambda x: x).collect()"
   ]
  },
  {
   "cell_type": "code",
   "execution_count": 69,
   "metadata": {},
   "outputs": [
    {
     "name": "stdout",
     "output_type": "stream",
     "text": [
      "+-------+-----------+-----+\n",
      "|user_id|follower_id|paths|\n",
      "+-------+-----------+-----+\n",
      "|      2|          1|   []|\n",
      "|      3|          1|   []|\n",
      "|      4|          2|  [2]|\n",
      "|      4|          3|  [3]|\n",
      "+-------+-----------+-----+\n",
      "\n"
     ]
    }
   ],
   "source": [
    "fd.show()"
   ]
  },
  {
   "cell_type": "markdown",
   "metadata": {},
   "source": [
    "- - -"
   ]
  },
  {
   "cell_type": "code",
   "execution_count": null,
   "metadata": {},
   "outputs": [],
   "source": [
    "is_empty_udf = udf(lambda x: len(x) == 0, BooleanType())\n",
    "\n",
    "df.filter(is_empty_udf(df.empty_list)).show(5)"
   ]
  },
  {
   "cell_type": "code",
   "execution_count": null,
   "metadata": {},
   "outputs": [],
   "source": [
    "  if id_from not in df_forward.index: \n",
    "    print('id_from not_found')\n",
    "    return -1\n",
    "  df_forward.loc[id_from, 'is_visited'] = True\n",
    "  is_not_found = True\n",
    "  while queue_ids and is_not_found:\n",
    "    first_in_queue = queue_ids.pop(0)\n",
    "    if first_in_queue not in df_forward.index: continue # leaf\n",
    "    neighbours = df_forward.loc[first_in_queue, 'user_id'] # list of users\n",
    "    for n in neighbours:\n",
    "      if n == id_to:\n",
    "        is_not_found = False\n",
    "        break\n",
    "      if n in df_forward.index and not df_forward.loc[n, 'is_visited']:\n",
    "        df_forward.loc[n, 'is_visited'] = True\n",
    "        queue_ids.append(n)\n",
    "  if is_not_found:\n",
    "    print('path not_found')\n",
    "    return -1\n",
    "  \n",
    "  # get the shortest path using df_backward from id_to to id_from\n",
    "  res = [id_to]\n",
    "  while res[-1] != id_from:\n",
    "    for n in df_backward.loc[res[-1], 'follower_id']:\n",
    "      if n in df_forward.index and df_forward.loc[n, 'is_visited']:\n",
    "        res.append(n)\n",
    "        break"
   ]
  },
  {
   "cell_type": "code",
   "execution_count": null,
   "metadata": {},
   "outputs": [],
   "source": [
    "\n",
    "\n",
    "neighbours = df_forward.filter(df_forward.follower_id == first_in_queue).first()\n",
    "if neighbours is None: continue # leaf\n",
    "neighbours = neighbours['user_id']\n",
    "if id_to in neighbours: break\n",
    "\n",
    "new_neighbours = df_forward.filter(df_forward.follower_id.isin(neighbours)).filter(df_forward.is_visited == 0)\n",
    "queue_ids.extend\n",
    "list_follower_ids = [i['follower_id'] for i in new_neighbours.select('follower_id').collect()]\n",
    "queue_ids.extend(list_follower_ids)\n",
    "\n",
    "df_forward = df_forward.withColumn(\"is_visited\", f.when(f.col(\"follower_id\").isin(neighbours), 1).otherwise(df_forward.is_visited))"
   ]
  },
  {
   "cell_type": "code",
   "execution_count": null,
   "metadata": {},
   "outputs": [],
   "source": [
    "empty_list_udf = udf(lambda: [], ArrayType(StringType()))\n",
    "is_empty_udf = udf(lambda x: len(x) == 0, BooleanType())\n",
    "\n",
    "df_forward  = df.groupby(\"follower_id\").agg(f.collect_list(\"user_id\").alias(\"user_id\"))\n",
    "df_forward = df_forward.withColumn(\"parents\", empty_list_udf())\n",
    "\n",
    "df_backward = df.groupby(\"user_id\").agg(f.collect_list(\"follower_id\").alias(\"follower_id\"))\n",
    "\n",
    "df_forward.cache()\n",
    "df_backward.cache()"
   ]
  },
  {
   "cell_type": "code",
   "execution_count": null,
   "metadata": {},
   "outputs": [],
   "source": [
    "df_forward.filter(df_forward.follower_id == '12').select('user_id').rdd.flatMap(lambda x: x).collect()"
   ]
  },
  {
   "cell_type": "code",
   "execution_count": null,
   "metadata": {},
   "outputs": [],
   "source": [
    "df_forward.withColumn(\"parents\", udf(lambda x: list(x) + ['12'], ArrayType(StringType()))(df_forward.parents)).show(5)"
   ]
  },
  {
   "cell_type": "code",
   "execution_count": null,
   "metadata": {},
   "outputs": [],
   "source": [
    "add_parent = udf(lambda L: list(L) + ['12'], ArrayType(StringType()))\n",
    "\n",
    "df_forward.withColumn(\"parents\", f.when(f.col(\"follower_id\") == '126', add_parent(f.col(\"parents\"))).otherwise(f.col(\"parents\"))).show(10)"
   ]
  },
  {
   "cell_type": "code",
   "execution_count": null,
   "metadata": {},
   "outputs": [],
   "source": [
    "id_from, id_to = '12', '107'\n",
    "\n",
    "empty_list_udf = udf(lambda: [], ArrayType(StringType()))\n",
    "is_empty_udf = udf(lambda x: len(x) == 0, BooleanType())\n",
    "is_not_empty_udf = udf(lambda x: len(x) != 0, BooleanType())\n",
    "\n",
    "df_forward  = df.groupby(\"follower_id\").agg(f.collect_list(\"user_id\").alias(\"user_id\"))\n",
    "df_forward = df_forward.withColumn(\"parents\", empty_list_udf())\n",
    "\n",
    "df_backward = df.groupby(\"user_id\").agg(f.collect_list(\"follower_id\").alias(\"follower_id\"))\n",
    "\n",
    "# df_forward.cache()\n",
    "# df_backward.cache()\n",
    "\n",
    "\n",
    "# run BFS and mark visited from id_from to id_to\n",
    "queue_ids = [id_from]\n",
    "while queue_ids:\n",
    "  first_in_queue = queue_ids.pop(0)\n",
    "  neighbours = df_forward.filter(df_forward.follower_id == first_in_queue).select('user_id').rdd.flatMap(lambda x: x).collect()\n",
    "  if not neighbours: continue # leaf\n",
    "  neighbours = neighbours[0] # now it is a list of follower_id's\n",
    "  if id_to in neighbours: break # found target\n",
    "\n",
    "  # add new neighbours which are not visited\n",
    "  new_neighbours = df_forward.filter(is_empty_udf(df_forward.parents))\\\n",
    "              .filter(df_forward.follower_id.isin(neighbours))\\\n",
    "              .select('follower_id').rdd.flatMap(lambda x: x).collect()\n",
    "  queue_ids.extend(new_neighbours)\n",
    "\n",
    "  # update parents for each visited neighbour\n",
    "  for n in neighbours:\n",
    "    add_parent = udf(lambda L: list(L) + [first_in_queue], ArrayType(StringType()))\n",
    "    df_forward = df_forward.withColumn(\"parents\", f.when(f.col(\"follower_id\") == n, add_parent(f.col(\"parents\"))).otherwise(f.col(\"parents\")))"
   ]
  },
  {
   "cell_type": "code",
   "execution_count": null,
   "metadata": {},
   "outputs": [],
   "source": [
    "back_neighbours = df_backward.filter(df_backward.user_id == id_to).select('follower_id').rdd.flatMap(lambda x: x).collect()[0]"
   ]
  },
  {
   "cell_type": "code",
   "execution_count": null,
   "metadata": {},
   "outputs": [],
   "source": [
    "len(back_neighbours)"
   ]
  },
  {
   "cell_type": "code",
   "execution_count": null,
   "metadata": {},
   "outputs": [],
   "source": [
    "df_forward.filter(df_forward.follower_id.isin(back_neighbours)).filter(is_not_empty_udf(f.col(\"parents\"))).collect()"
   ]
  },
  {
   "cell_type": "code",
   "execution_count": null,
   "metadata": {},
   "outputs": [],
   "source": [
    "back_neighbours_with_parents = df_forward.filter(df_forward.follower_id.isin(back_neighbours)).filter(is_not_empty_udf(f.col(\"parents\"))).collect()"
   ]
  },
  {
   "cell_type": "code",
   "execution_count": null,
   "metadata": {},
   "outputs": [],
   "source": [
    "back_neighbours_with_parents"
   ]
  },
  {
   "cell_type": "code",
   "execution_count": 5,
   "metadata": {},
   "outputs": [
    {
     "name": "stderr",
     "output_type": "stream",
     "text": [
      "                                                                                \r"
     ]
    },
    {
     "data": {
      "text/plain": [
       "['126', '380', '422', '648']"
      ]
     },
     "execution_count": 5,
     "metadata": {},
     "output_type": "execute_result"
    }
   ],
   "source": [
    "df.filter(df.follower_id == '12').select('user_id').rdd.flatMap(lambda x: x).collect()"
   ]
  },
  {
   "cell_type": "code",
   "execution_count": 10,
   "metadata": {},
   "outputs": [
    {
     "name": "stderr",
     "output_type": "stream",
     "text": [
      "                                                                                \r"
     ]
    },
    {
     "data": {
      "text/plain": [
       "[]"
      ]
     },
     "execution_count": 10,
     "metadata": {},
     "output_type": "execute_result"
    }
   ],
   "source": [
    "df.filter(df.follower_id == '12').select('path').rdd.flatMap(lambda x: x).collect()[0]"
   ]
  },
  {
   "cell_type": "code",
   "execution_count": 22,
   "metadata": {},
   "outputs": [
    {
     "data": {
      "text/plain": [
       "''"
      ]
     },
     "execution_count": 22,
     "metadata": {},
     "output_type": "execute_result"
    }
   ],
   "source": [
    "df.filter(df.follower_id == '12').select('path').rdd.flatMap(lambda x: x).first()"
   ]
  },
  {
   "cell_type": "code",
   "execution_count": 58,
   "metadata": {},
   "outputs": [],
   "source": [
    "# def shortest_path(df, id_from, id_to):\n",
    "id_from = '12'\n",
    "id_to = '34'\n",
    "\n",
    "df = df.withColumn(\"path\", f.lit(\"\"))\n",
    "\n",
    "\n",
    "# df.cache()\n",
    "\n",
    "\n",
    "# run BFS and mark visited from id_from to id_to\n",
    "queue_ids = [id_from]\n",
    "while queue_ids:\n",
    "  first_in_queue = queue_ids.pop(0)\n",
    "  neighbours = df.filter(df.follower_id == first_in_queue).select('user_id').rdd.flatMap(lambda x: x).collect()\n",
    "  if not neighbours: continue # leaf\n",
    "  if id_to in neighbours: break # found target\n",
    "\n",
    "  # add new neighbours which are not visited\n",
    "  new_neighbours = df.filter(df.path == \"\")\\\n",
    "              .filter(df.follower_id.isin(neighbours))\\\n",
    "              .select('follower_id').rdd.flatMap(lambda x: x).collect()\n",
    "  queue_ids.extend(list(set(new_neighbours)))\n",
    "\n",
    "  # path = current_path + follower_id\n",
    "  current_path = df.filter(df.follower_id == first_in_queue).select('path').rdd.flatMap(lambda x: x).first()\n",
    "  append_path = udf(lambda node: current_path+','+node, StringType())\n",
    "  df = df.withColumn(\"path\", f.when(df.follower_id.isin(neighbours), append_path(f.col(\"follower_id\"))).otherwise(f.col(\"path\")))  \n",
    "  "
   ]
  },
  {
   "cell_type": "code",
   "execution_count": 61,
   "metadata": {},
   "outputs": [
    {
     "data": {
      "text/plain": [
       "[',422,53,52', ',422,53,52,107,586']"
      ]
     },
     "execution_count": 61,
     "metadata": {},
     "output_type": "execute_result"
    }
   ],
   "source": [
    "df.filter(df.user_id == '107').filter(df.path != \"\").select('path').rdd.flatMap(lambda x: x).collect()"
   ]
  },
  {
   "cell_type": "code",
   "execution_count": 62,
   "metadata": {},
   "outputs": [
    {
     "name": "stdout",
     "output_type": "stream",
     "text": [
      "+-------+-----------+------------------+\n",
      "|user_id|follower_id|              path|\n",
      "+-------+-----------+------------------+\n",
      "|    107|         52|        ,422,53,52|\n",
      "|    107|        586|,422,53,52,107,586|\n",
      "|    107|      81503|                  |\n",
      "|    107|     620743|                  |\n",
      "|    107|     624493|                  |\n",
      "|    107|     667563|                  |\n",
      "|    107|    1044751|                  |\n",
      "|    107|    1115281|                  |\n",
      "|    107|    1252851|                  |\n",
      "|    107|    2560911|                  |\n",
      "+-------+-----------+------------------+\n",
      "only showing top 10 rows\n",
      "\n"
     ]
    }
   ],
   "source": [
    "df.filter(df.user_id == '107').show(10)"
   ]
  },
  {
   "cell_type": "code",
   "execution_count": 44,
   "metadata": {},
   "outputs": [],
   "source": [
    "append_path = udf(lambda node: current_path+node, StringType())"
   ]
  },
  {
   "cell_type": "code",
   "execution_count": 45,
   "metadata": {},
   "outputs": [
    {
     "name": "stdout",
     "output_type": "stream",
     "text": [
      "+-------+-----------+------+\n",
      "|user_id|follower_id|  path|\n",
      "+-------+-----------+------+\n",
      "|     12|       2241|  2241|\n",
      "|     12|      13349| 13349|\n",
      "|     12|      41873| 41873|\n",
      "|     12|      82473| 82473|\n",
      "|     12|     414853|414853|\n",
      "|     12|     755452|755452|\n",
      "|     12|     758983|758983|\n",
      "|     12|     793023|793023|\n",
      "|     12|     794748|794748|\n",
      "|     12|     806280|806280|\n",
      "+-------+-----------+------+\n",
      "only showing top 10 rows\n",
      "\n"
     ]
    }
   ],
   "source": [
    "df.withColumn(\"path\", append_path(f.col(\"follower_id\"))).show(10)"
   ]
  },
  {
   "cell_type": "code",
   "execution_count": null,
   "metadata": {},
   "outputs": [],
   "source": [
    "df.withColumn(\"path\", f.when(df.follower_id.isin(neighbours), append_path(f.col(\"follower_id\"))).otherwise(f.col(\"path\")))  "
   ]
  },
  {
   "cell_type": "code",
   "execution_count": 27,
   "metadata": {},
   "outputs": [
    {
     "name": "stderr",
     "output_type": "stream",
     "text": [
      "                                                                                \r"
     ]
    },
    {
     "ename": "AnalysisException",
     "evalue": "cannot resolve 'CASE WHEN (follower_id IN ('126', '380', '422', '648')) THEN <lambda>(follower_id) ELSE path END' due to data type mismatch: THEN and ELSE expressions should all be same type or coercible to a common type, got CASE WHEN ... THEN array<string> ELSE string END;\n'Project [user_id#0, follower_id#1, CASE WHEN follower_id#1 IN (126,380,422,648) THEN <lambda>(follower_id#1)#81 ELSE path#70 END AS path#82]\n+- Project [user_id#0, follower_id#1,  AS path#70]\n   +- Project [user_id#0, follower_id#1,  AS path#39]\n      +- Project [user_id#0, follower_id#1]\n         +- Project [user_id#0, follower_id#1, <lambda>()#8 AS path#9]\n            +- Relation [user_id#0,follower_id#1] csv\n",
     "output_type": "error",
     "traceback": [
      "\u001b[0;31m---------------------------------------------------------------------------\u001b[0m",
      "\u001b[0;31mAnalysisException\u001b[0m                         Traceback (most recent call last)",
      "Cell \u001b[0;32mIn[27], line 1\u001b[0m\n\u001b[0;32m----> 1\u001b[0m \u001b[43mshortest_path\u001b[49m\u001b[43m(\u001b[49m\u001b[43mdf\u001b[49m\u001b[43m,\u001b[49m\u001b[43m \u001b[49m\u001b[38;5;124;43m'\u001b[39;49m\u001b[38;5;124;43m12\u001b[39;49m\u001b[38;5;124;43m'\u001b[39;49m\u001b[43m,\u001b[49m\u001b[43m \u001b[49m\u001b[38;5;124;43m'\u001b[39;49m\u001b[38;5;124;43m107\u001b[39;49m\u001b[38;5;124;43m'\u001b[39;49m\u001b[43m)\u001b[49m\n",
      "Cell \u001b[0;32mIn[26], line 26\u001b[0m, in \u001b[0;36mshortest_path\u001b[0;34m(df, id_from, id_to)\u001b[0m\n\u001b[1;32m     24\u001b[0m current_path \u001b[38;5;241m=\u001b[39m df\u001b[38;5;241m.\u001b[39mfilter(df\u001b[38;5;241m.\u001b[39mfollower_id \u001b[38;5;241m==\u001b[39m first_in_queue)\u001b[38;5;241m.\u001b[39mselect(\u001b[38;5;124m'\u001b[39m\u001b[38;5;124mpath\u001b[39m\u001b[38;5;124m'\u001b[39m)\u001b[38;5;241m.\u001b[39mrdd\u001b[38;5;241m.\u001b[39mflatMap(\u001b[38;5;28;01mlambda\u001b[39;00m x: x)\u001b[38;5;241m.\u001b[39mfirst()\n\u001b[1;32m     25\u001b[0m add_path \u001b[38;5;241m=\u001b[39m udf(\u001b[38;5;28;01mlambda\u001b[39;00m node: current_path\u001b[38;5;241m+\u001b[39mnode, ArrayType(StringType()))\n\u001b[0;32m---> 26\u001b[0m df \u001b[38;5;241m=\u001b[39m \u001b[43mdf\u001b[49m\u001b[38;5;241;43m.\u001b[39;49m\u001b[43mwithColumn\u001b[49m\u001b[43m(\u001b[49m\u001b[38;5;124;43m\"\u001b[39;49m\u001b[38;5;124;43mpath\u001b[39;49m\u001b[38;5;124;43m\"\u001b[39;49m\u001b[43m,\u001b[49m\u001b[43m \u001b[49m\u001b[43mf\u001b[49m\u001b[38;5;241;43m.\u001b[39;49m\u001b[43mwhen\u001b[49m\u001b[43m(\u001b[49m\u001b[43mdf\u001b[49m\u001b[38;5;241;43m.\u001b[39;49m\u001b[43mfollower_id\u001b[49m\u001b[38;5;241;43m.\u001b[39;49m\u001b[43misin\u001b[49m\u001b[43m(\u001b[49m\u001b[43mneighbours\u001b[49m\u001b[43m)\u001b[49m\u001b[43m,\u001b[49m\u001b[43m \u001b[49m\u001b[43madd_path\u001b[49m\u001b[43m(\u001b[49m\u001b[43mf\u001b[49m\u001b[38;5;241;43m.\u001b[39;49m\u001b[43mcol\u001b[49m\u001b[43m(\u001b[49m\u001b[38;5;124;43m\"\u001b[39;49m\u001b[38;5;124;43mfollower_id\u001b[39;49m\u001b[38;5;124;43m\"\u001b[39;49m\u001b[43m)\u001b[49m\u001b[43m)\u001b[49m\u001b[43m)\u001b[49m\u001b[38;5;241;43m.\u001b[39;49m\u001b[43motherwise\u001b[49m\u001b[43m(\u001b[49m\u001b[43mf\u001b[49m\u001b[38;5;241;43m.\u001b[39;49m\u001b[43mcol\u001b[49m\u001b[43m(\u001b[49m\u001b[38;5;124;43m\"\u001b[39;49m\u001b[38;5;124;43mpath\u001b[39;49m\u001b[38;5;124;43m\"\u001b[39;49m\u001b[43m)\u001b[49m\u001b[43m)\u001b[49m\u001b[43m)\u001b[49m\n",
      "File \u001b[0;32m/usr/lib/spark3/python/lib/pyspark.zip/pyspark/sql/dataframe.py:3036\u001b[0m, in \u001b[0;36mDataFrame.withColumn\u001b[0;34m(self, colName, col)\u001b[0m\n\u001b[1;32m   3034\u001b[0m \u001b[38;5;28;01mif\u001b[39;00m \u001b[38;5;129;01mnot\u001b[39;00m \u001b[38;5;28misinstance\u001b[39m(col, Column):\n\u001b[1;32m   3035\u001b[0m     \u001b[38;5;28;01mraise\u001b[39;00m \u001b[38;5;167;01mTypeError\u001b[39;00m(\u001b[38;5;124m\"\u001b[39m\u001b[38;5;124mcol should be Column\u001b[39m\u001b[38;5;124m\"\u001b[39m)\n\u001b[0;32m-> 3036\u001b[0m \u001b[38;5;28;01mreturn\u001b[39;00m DataFrame(\u001b[38;5;28;43mself\u001b[39;49m\u001b[38;5;241;43m.\u001b[39;49m\u001b[43m_jdf\u001b[49m\u001b[38;5;241;43m.\u001b[39;49m\u001b[43mwithColumn\u001b[49m\u001b[43m(\u001b[49m\u001b[43mcolName\u001b[49m\u001b[43m,\u001b[49m\u001b[43m \u001b[49m\u001b[43mcol\u001b[49m\u001b[38;5;241;43m.\u001b[39;49m\u001b[43m_jc\u001b[49m\u001b[43m)\u001b[49m, \u001b[38;5;28mself\u001b[39m\u001b[38;5;241m.\u001b[39msparkSession)\n",
      "File \u001b[0;32m/usr/lib/spark3/python/lib/py4j-0.10.9.5-src.zip/py4j/java_gateway.py:1321\u001b[0m, in \u001b[0;36mJavaMember.__call__\u001b[0;34m(self, *args)\u001b[0m\n\u001b[1;32m   1315\u001b[0m command \u001b[38;5;241m=\u001b[39m proto\u001b[38;5;241m.\u001b[39mCALL_COMMAND_NAME \u001b[38;5;241m+\u001b[39m\\\n\u001b[1;32m   1316\u001b[0m     \u001b[38;5;28mself\u001b[39m\u001b[38;5;241m.\u001b[39mcommand_header \u001b[38;5;241m+\u001b[39m\\\n\u001b[1;32m   1317\u001b[0m     args_command \u001b[38;5;241m+\u001b[39m\\\n\u001b[1;32m   1318\u001b[0m     proto\u001b[38;5;241m.\u001b[39mEND_COMMAND_PART\n\u001b[1;32m   1320\u001b[0m answer \u001b[38;5;241m=\u001b[39m \u001b[38;5;28mself\u001b[39m\u001b[38;5;241m.\u001b[39mgateway_client\u001b[38;5;241m.\u001b[39msend_command(command)\n\u001b[0;32m-> 1321\u001b[0m return_value \u001b[38;5;241m=\u001b[39m \u001b[43mget_return_value\u001b[49m\u001b[43m(\u001b[49m\n\u001b[1;32m   1322\u001b[0m \u001b[43m    \u001b[49m\u001b[43manswer\u001b[49m\u001b[43m,\u001b[49m\u001b[43m \u001b[49m\u001b[38;5;28;43mself\u001b[39;49m\u001b[38;5;241;43m.\u001b[39;49m\u001b[43mgateway_client\u001b[49m\u001b[43m,\u001b[49m\u001b[43m \u001b[49m\u001b[38;5;28;43mself\u001b[39;49m\u001b[38;5;241;43m.\u001b[39;49m\u001b[43mtarget_id\u001b[49m\u001b[43m,\u001b[49m\u001b[43m \u001b[49m\u001b[38;5;28;43mself\u001b[39;49m\u001b[38;5;241;43m.\u001b[39;49m\u001b[43mname\u001b[49m\u001b[43m)\u001b[49m\n\u001b[1;32m   1324\u001b[0m \u001b[38;5;28;01mfor\u001b[39;00m temp_arg \u001b[38;5;129;01min\u001b[39;00m temp_args:\n\u001b[1;32m   1325\u001b[0m     temp_arg\u001b[38;5;241m.\u001b[39m_detach()\n",
      "File \u001b[0;32m/usr/lib/spark3/python/lib/pyspark.zip/pyspark/sql/utils.py:196\u001b[0m, in \u001b[0;36mcapture_sql_exception.<locals>.deco\u001b[0;34m(*a, **kw)\u001b[0m\n\u001b[1;32m    192\u001b[0m converted \u001b[38;5;241m=\u001b[39m convert_exception(e\u001b[38;5;241m.\u001b[39mjava_exception)\n\u001b[1;32m    193\u001b[0m \u001b[38;5;28;01mif\u001b[39;00m \u001b[38;5;129;01mnot\u001b[39;00m \u001b[38;5;28misinstance\u001b[39m(converted, UnknownException):\n\u001b[1;32m    194\u001b[0m     \u001b[38;5;66;03m# Hide where the exception came from that shows a non-Pythonic\u001b[39;00m\n\u001b[1;32m    195\u001b[0m     \u001b[38;5;66;03m# JVM exception message.\u001b[39;00m\n\u001b[0;32m--> 196\u001b[0m     \u001b[38;5;28;01mraise\u001b[39;00m converted \u001b[38;5;28;01mfrom\u001b[39;00m \u001b[38;5;28;01mNone\u001b[39;00m\n\u001b[1;32m    197\u001b[0m \u001b[38;5;28;01melse\u001b[39;00m:\n\u001b[1;32m    198\u001b[0m     \u001b[38;5;28;01mraise\u001b[39;00m\n",
      "\u001b[0;31mAnalysisException\u001b[0m: cannot resolve 'CASE WHEN (follower_id IN ('126', '380', '422', '648')) THEN <lambda>(follower_id) ELSE path END' due to data type mismatch: THEN and ELSE expressions should all be same type or coercible to a common type, got CASE WHEN ... THEN array<string> ELSE string END;\n'Project [user_id#0, follower_id#1, CASE WHEN follower_id#1 IN (126,380,422,648) THEN <lambda>(follower_id#1)#81 ELSE path#70 END AS path#82]\n+- Project [user_id#0, follower_id#1,  AS path#70]\n   +- Project [user_id#0, follower_id#1,  AS path#39]\n      +- Project [user_id#0, follower_id#1]\n         +- Project [user_id#0, follower_id#1, <lambda>()#8 AS path#9]\n            +- Relation [user_id#0,follower_id#1] csv\n"
     ]
    }
   ],
   "source": [
    "shortest_path(df, '12', '107')"
   ]
  },
  {
   "cell_type": "code",
   "execution_count": null,
   "metadata": {},
   "outputs": [],
   "source": [
    "df"
   ]
  },
  {
   "cell_type": "code",
   "execution_count": null,
   "metadata": {},
   "outputs": [],
   "source": [
    "def shortest_path(df, id_from, id_to):\n",
    "  empty_lists = udf(lambda: [], ArrayType(StringType()))\n",
    "  is_empty_udf = udf(lambda x: len(x) == 0, BooleanType())\n",
    "  is_not_empty_udf = udf(lambda x: len(x) != 0, BooleanType())\n",
    "\n",
    "  df_forward  = df.groupby(\"follower_id\").agg(f.collect_list(\"user_id\").alias(\"user_id\"))\n",
    "  df_forward = df_forward.withColumn(\"parents\", empty_lists())\n",
    "\n",
    "  df_backward = df.groupby(\"user_id\").agg(f.collect_list(\"follower_id\").alias(\"follower_id\"))\n",
    "  df_backward = df_backward.withColumn(\"path\", empty_lists())\n",
    "\n",
    "  # df_forward.cache()\n",
    "  # df_backward.cache()\n",
    "\n",
    "\n",
    "  # run BFS and mark visited from id_from to id_to\n",
    "  queue_ids = [id_from]\n",
    "  while queue_ids:\n",
    "    first_in_queue = queue_ids.pop(0)\n",
    "    neighbours = df_forward.filter(df_forward.follower_id == first_in_queue).select('user_id').rdd.flatMap(lambda x: x).collect()\n",
    "    if not neighbours: continue # leaf\n",
    "    else: neighbours = neighbours[0] # now it is a list of follower_id's\n",
    "    if id_to in neighbours: break # found target\n",
    "\n",
    "    # add new neighbours which are not visited\n",
    "    new_neighbours = df_forward.filter(is_empty_udf(df_forward.parents))\\\n",
    "                .filter(df_forward.follower_id.isin(neighbours))\\\n",
    "                .select('follower_id').rdd.flatMap(lambda x: x).collect()\n",
    "    queue_ids.extend(new_neighbours)\n",
    "\n",
    "    # update parents for each visited neighbour\n",
    "    # for n in neighbours:\n",
    "    #   add_parent = udf(lambda L: list(L) + [first_in_queue], ArrayType(StringType()))\n",
    "    #   df_forward = df_forward.withColumn(\"parents\", f.when(f.col(\"follower_id\") == n, add_parent(f.col(\"parents\"))).otherwise(f.col(\"parents\")))\n",
    "    \n",
    "    add_parent = udf(lambda L: list(L) + [first_in_queue], ArrayType(StringType()))\n",
    "    df_forward = df_forward.withColumn(\"parents\", f.when(df_forward.follower_id.isin(neighbours), add_parent(f.col(\"parents\"))).otherwise(f.col(\"parents\")))\n",
    "\n",
    "  print('forward is done')\n",
    "  # accumulate all the shortest paths using df_backward from id_to to id_from\n",
    "  queue_ids = [id_to]\n",
    "  while queue_ids:\n",
    "    print('queue_ids:', queue_ids)\n",
    "    first_in_queue = queue_ids.pop(0)\n",
    "    neighbours_no_path = df_backward.filter(df_backward.user_id == first_in_queue).filter(is_empty_udf(f.col(\"path\"))).select('follower_id').rdd.flatMap(lambda x: x).collect()[0]\n",
    "    neighbours_no_path_parents = df_forward.filter(df_forward.follower_id.isin(neighbours_no_path)).filter(is_not_empty_udf(f.col(\"parents\"))).select('follower_id').rdd.flatMap(lambda x: x).collect()\n",
    "    print('back_neigh:', neighbours_no_path_parents)\n",
    "    if not neighbours_no_path_parents: continue # id_from in back_neighbours\n",
    "    queue_ids.extend(neighbours_no_path_parents)\n",
    "    # print('back_neigh:', back_neighbours_with_parents)\n",
    "    \n",
    "    # update path for each visited neighbour\n",
    "    curr_path = df_backward.filter(df_backward.user_id == first_in_queue).select('path').rdd.flatMap(lambda x: x).collect()[0]\n",
    "    print('curr_path:', curr_path)\n",
    "    update_path = udf(lambda x: [x]+curr_path, ArrayType(StringType()))\n",
    "    df_backward = df_backward.withColumn(\"path\", f.when(df_backward.user_id.isin(neighbours_no_path_parents), update_path(f.col(\"user_id\"))).otherwise(f.col(\"path\")))\n",
    "  \n",
    "  # get all paths\n",
    "  source_neighbours = df_forward.filter(df_forward.follower_id == id_from).select('user_id').rdd.flatMap(lambda x: x).collect()[0]\n",
    "  return df_backward.filter(df_backward.user_id.isin(source_neighbours)).filter(is_not_empty_udf(f.col(\"path\"))).select('path').rdd.flatMap(lambda x: x).collect()\n",
    "  \n",
    "  "
   ]
  },
  {
   "cell_type": "code",
   "execution_count": null,
   "metadata": {},
   "outputs": [],
   "source": [
    "df_backward.filter(df_backward.user_id == '20').filter(is_empty_udf(f.col(\"path\"))).select('follower_id').rdd.flatMap(lambda x: x).collect()"
   ]
  },
  {
   "cell_type": "code",
   "execution_count": null,
   "metadata": {},
   "outputs": [],
   "source": [
    "shortest_path(df, '52', '23')"
   ]
  },
  {
   "cell_type": "code",
   "execution_count": null,
   "metadata": {},
   "outputs": [],
   "source": [
    "id_from = '12'\n",
    "id_to = '34'\n",
    "\n",
    "empty_lists = udf(lambda: [], ArrayType(StringType()))\n",
    "is_empty_udf = udf(lambda x: len(x) == 0, BooleanType())\n",
    "is_not_empty_udf = udf(lambda x: len(x) != 0, BooleanType())\n",
    "\n",
    "df_forward  = df.groupby(\"follower_id\").agg(f.collect_list(\"user_id\").alias(\"user_id\"))\n",
    "df_forward = df_forward.withColumn(\"parents\", empty_lists())\n",
    "\n",
    "df_backward = df.groupby(\"user_id\").agg(f.collect_list(\"follower_id\").alias(\"follower_id\"))\n",
    "df_backward = df_backward.withColumn(\"path\", empty_lists())\n",
    "\n",
    "# df_forward.cache()\n",
    "# df_backward.cache()\n",
    "\n",
    "\n",
    "# run BFS and mark visited from id_from to id_to\n",
    "queue_ids = [id_from]\n",
    "while queue_ids:\n",
    "  first_in_queue = queue_ids.pop(0)\n",
    "  neighbours = df_forward.filter(df_forward.follower_id == first_in_queue).select('user_id').rdd.flatMap(lambda x: x).collect()\n",
    "  if not neighbours: continue # leaf\n",
    "  else: neighbours = neighbours[0] # now it is a list of follower_id's\n",
    "  if id_to in neighbours: break # found target\n",
    "\n",
    "  # add new neighbours which are not visited\n",
    "  new_neighbours = df_forward.filter(is_empty_udf(df_forward.parents))\\\n",
    "              .filter(df_forward.follower_id.isin(neighbours))\\\n",
    "              .select('follower_id').rdd.flatMap(lambda x: x).collect()\n",
    "  queue_ids.extend(new_neighbours)\n",
    "  \n",
    "  add_parent = udf(lambda L: list(L) + [first_in_queue], ArrayType(StringType()))\n",
    "  df_forward = df_forward.withColumn(\"parents\", f.when(df_forward.follower_id.isin(neighbours), add_parent(f.col(\"parents\"))).otherwise(f.col(\"parents\")))"
   ]
  },
  {
   "cell_type": "code",
   "execution_count": null,
   "metadata": {},
   "outputs": [],
   "source": [
    "df_forward.filter(df_forward.follower_id == '586').show(2)"
   ]
  },
  {
   "cell_type": "code",
   "execution_count": null,
   "metadata": {},
   "outputs": [],
   "source": [
    "df_forward.filter(df_forward.follower_id == '107').show(2)"
   ]
  },
  {
   "cell_type": "code",
   "execution_count": null,
   "metadata": {},
   "outputs": [],
   "source": [
    "df_forward.filter(df_forward.follower_id == '52').show(2)"
   ]
  },
  {
   "cell_type": "code",
   "execution_count": null,
   "metadata": {},
   "outputs": [],
   "source": [
    "df_backward.filter(df_backward.user_id == '586').show(2)"
   ]
  },
  {
   "cell_type": "markdown",
   "metadata": {},
   "source": [
    "- - -"
   ]
  },
  {
   "cell_type": "code",
   "execution_count": null,
   "metadata": {},
   "outputs": [],
   "source": [
    "def shortest_path(df, id_from, id_to):\n",
    "  df  = df.withColumn(\"parents\", f.lit(0))\n",
    "  df.cache()\n",
    "\n",
    "  # run BFS and mark visited from id_from to id_to\n",
    "  queue_ids = [id_from]\n",
    "  while queue_ids:\n",
    "    first_in_queue = queue_ids.pop(0)\n",
    "    neighbours = df.filter(df.follower_id == first_in_queue).select('user_id').rdd.flatMap(lambda x: x).collect()\n",
    "    if not neighbours: continue # leaf\n",
    "    if id_to in neighbours: break # found target\n",
    "\n",
    "    new_neighbours = df.filter(df.is_visited == 0).filter(df.follower_id.isin(neighbours)).select('follower_id').rdd.flatMap(lambda x: x).collect()\n",
    "    queue_ids.extend(new_neighbours)\n",
    "\n",
    "    df = df.withColumn(\"is_visited\", f.when(f.col(\"follower_id\").isin(new_neighbours), 1).otherwise(df.is_visited))\n",
    "\n",
    "\n",
    "  # get the shortest path using df_backward from id_to to id_from\n",
    "  res = [id_to]\n",
    "  while True:\n",
    "    neighbours = df.filter(df.user_id == res[-1]).select('follower_id').rdd.flatMap(lambda x: x).collect()\n",
    "\n",
    "    # filter df_forward where follower_id in neighbours and is_visited:\n",
    "    best_id = df.filter(df.is_visited == 1).filter(df.follower_id.isin(neighbours)).select('follower_id').rdd.flatMap(lambda x: x).collect()\n",
    "    if not best_id: return (res+[id_from])[::-1]\n",
    "    res.append(best_id[0])"
   ]
  },
  {
   "cell_type": "code",
   "execution_count": null,
   "metadata": {},
   "outputs": [],
   "source": [
    "examples = [[12, 15],[12, 17],[12, 13],[12, 16],[12, 38],[12, 295],[47147585, 34],[29068146, 34]]\n",
    "for i in examples:\n",
    "  print(i, nx.shortest_path(graph, source=str(i[0]), target=str(i[1])))"
   ]
  },
  {
   "cell_type": "code",
   "execution_count": null,
   "metadata": {},
   "outputs": [],
   "source": [
    "shortest_path(df, '12', '15')"
   ]
  },
  {
   "cell_type": "code",
   "execution_count": null,
   "metadata": {},
   "outputs": [],
   "source": [
    "shortest_path(df, '12', '17')"
   ]
  },
  {
   "cell_type": "code",
   "execution_count": null,
   "metadata": {},
   "outputs": [],
   "source": [
    "shortest_path(df, '12', '13')"
   ]
  },
  {
   "cell_type": "code",
   "execution_count": null,
   "metadata": {},
   "outputs": [],
   "source": [
    "shortest_path(df, '12', '16')"
   ]
  },
  {
   "cell_type": "code",
   "execution_count": null,
   "metadata": {},
   "outputs": [],
   "source": [
    "shortest_path(df, '12', '38')"
   ]
  },
  {
   "cell_type": "code",
   "execution_count": null,
   "metadata": {},
   "outputs": [],
   "source": [
    "shortest_path(df, '47147585', '34')"
   ]
  },
  {
   "cell_type": "code",
   "execution_count": null,
   "metadata": {},
   "outputs": [],
   "source": [
    "shortest_path(df, '29068146', '34')"
   ]
  },
  {
   "cell_type": "code",
   "execution_count": null,
   "metadata": {},
   "outputs": [],
   "source": [
    "def shortest_path(df, id_from, id_to):\n",
    "  df_forward  = df.groupby(\"follower_id\").agg(f.collect_list(\"user_id\").alias(\"user_id\"))\n",
    "  df_backward = df.groupby(\"user_id\").agg(f.collect_list(\"follower_id\").alias(\"follower_id\"))\n",
    "  df_forward  = df_forward.withColumn(\"is_visited\", f.lit(0))\n",
    "  # cache to speed up\n",
    "  df_forward.cache()\n",
    "  df_backward.cache()\n",
    "\n",
    "  # run BFS and mark visited from id_from to id_to\n",
    "  queue_ids = [id_from]\n",
    "  while queue_ids:\n",
    "    first_in_queue = queue_ids.pop(0)\n",
    "    print(first_in_queue)\n",
    "    neighbours = df_forward.filter(df_forward.follower_id == first_in_queue).first()\n",
    "    if neighbours is None: continue # leaf\n",
    "    neighbours = neighbours['user_id']\n",
    "    if id_to in neighbours: break\n",
    "\n",
    "    new_neighbours = df_forward.filter(df_forward.follower_id.isin(neighbours)).filter(df_forward.is_visited == 0)\n",
    "    queue_ids.extend\n",
    "    list_follower_ids = [i['follower_id'] for i in new_neighbours.select('follower_id').collect()]\n",
    "    queue_ids.extend(list_follower_ids)\n",
    "\n",
    "    df_forward = df_forward.withColumn(\"is_visited\", f.when(f.col(\"follower_id\").isin(neighbours), 1).otherwise(df_forward.is_visited))\n",
    "\n",
    "  print(df_forward.filter(df_forward.is_visited == 1).collect())\n",
    "  \n",
    "\n",
    "  # get the shortest path using df_backward from id_to to id_from\n",
    "  res = [id_to]\n",
    "  while True:\n",
    "    neighbours = df_backward.filter(df_backward.user_id == res[-1]).first()['follower_id']\n",
    "    print(res[-1], neighbours)\n",
    "\n",
    "    # filter df_forward where follower_id in neighbours and is_visited:\n",
    "    best_id = df_forward.filter(df_forward.follower_id.isin(neighbours)).filter(df_forward.is_visited == 1).first()['follower_id']\n",
    "    if not best_id:\n",
    "      return (res+[id_from])[::-1]"
   ]
  },
  {
   "cell_type": "code",
   "execution_count": null,
   "metadata": {},
   "outputs": [],
   "source": [
    "df_ = df.toPandas()"
   ]
  },
  {
   "cell_type": "code",
   "execution_count": null,
   "metadata": {},
   "outputs": [],
   "source": [
    "df_"
   ]
  },
  {
   "cell_type": "code",
   "execution_count": null,
   "metadata": {},
   "outputs": [],
   "source": [
    "nx.shortest_path(graph, source='12', target='34')"
   ]
  },
  {
   "cell_type": "code",
   "execution_count": null,
   "metadata": {},
   "outputs": [],
   "source": [
    "import networkx as nx\n",
    "\n",
    "graph = nx.from_pandas_edgelist(df_, 'follower_id', 'user_id', create_using=nx.DiGraph())\n",
    "\n",
    "shortest_path = nx.shortest_path(graph, source='12', target='34')\n"
   ]
  },
  {
   "cell_type": "code",
   "execution_count": null,
   "metadata": {},
   "outputs": [],
   "source": [
    "import numpy as np\n",
    "def generate_random_path(source):\n",
    "  path = [source]\n",
    "  for i in range(100):\n",
    "    neighbours = df_[df_['follower_id']==path[-1]]['user_id']\n",
    "    if not len(neighbours): break\n",
    "    path.append(np.random.choice(neighbours))\n",
    "  return path[-1], len(path)\n",
    "\n",
    "def generate_random_path1(target):\n",
    "  path = [target]\n",
    "  for i in range(100):\n",
    "    neighbours = df_[df_['user_id']==path[-1]]['follower_id']\n",
    "    if not len(neighbours): break\n",
    "    path.append(np.random.choice(neighbours))\n",
    "  return path[-1], len(path)"
   ]
  },
  {
   "cell_type": "code",
   "execution_count": null,
   "metadata": {},
   "outputs": [],
   "source": [
    "df_.groupby('follower_id').count().iloc[44002]"
   ]
  },
  {
   "cell_type": "markdown",
   "metadata": {},
   "source": [
    "12, 15\n",
    "12, 17\n",
    "12, 13\n",
    "12, 16\n",
    "12, 38\n",
    "12, 295\n",
    "47147585, 34\n",
    "29068146, 34"
   ]
  },
  {
   "cell_type": "code",
   "execution_count": null,
   "metadata": {},
   "outputs": [],
   "source": [
    "shortest_path(df_, '12', '16')"
   ]
  },
  {
   "cell_type": "code",
   "execution_count": null,
   "metadata": {},
   "outputs": [],
   "source": [
    "df_[ df_['follower_id']=='38']"
   ]
  },
  {
   "cell_type": "code",
   "execution_count": null,
   "metadata": {},
   "outputs": [],
   "source": [
    "df_[ df_['follower_id']=='23']"
   ]
  },
  {
   "cell_type": "code",
   "execution_count": null,
   "metadata": {},
   "outputs": [],
   "source": [
    "nx.shortest_path(graph, source='12', target='16')"
   ]
  },
  {
   "cell_type": "code",
   "execution_count": null,
   "metadata": {},
   "outputs": [],
   "source": [
    "df_[df_['follower_id']=='12']"
   ]
  },
  {
   "cell_type": "code",
   "execution_count": null,
   "metadata": {},
   "outputs": [],
   "source": [
    "graph.degree"
   ]
  },
  {
   "cell_type": "code",
   "execution_count": null,
   "metadata": {},
   "outputs": [],
   "source": [
    "def shortest_path(df, id_from, id_to):\n",
    "  df_forward  = df.groupby('follower_id').agg(list)\n",
    "  df_forward.loc[:,'is_visited'] = False\n",
    "  df_backward = df.groupby('user_id').agg(list)\n",
    "\n",
    "  # run BFS and mark visited from id_from to id_to\n",
    "  queue_ids = [id_from]\n",
    "  if id_from not in df_forward.index: \n",
    "    print('id_from not_found')\n",
    "    return -1\n",
    "  df_forward.loc[id_from, 'is_visited'] = True\n",
    "  is_not_found = True\n",
    "  while queue_ids and is_not_found:\n",
    "    first_in_queue = queue_ids.pop(0)\n",
    "    if first_in_queue not in df_forward.index: continue # leaf\n",
    "    neighbours = df_forward.loc[first_in_queue, 'user_id'] # list of users\n",
    "    for n in neighbours:\n",
    "      if n == id_to:\n",
    "        is_not_found = False\n",
    "        break\n",
    "      if n in df_forward.index and not df_forward.loc[n, 'is_visited']:\n",
    "        df_forward.loc[n, 'is_visited'] = True\n",
    "        queue_ids.append(n)\n",
    "  if is_not_found:\n",
    "    print('path not_found')\n",
    "    return -1\n",
    "  \n",
    "  # get the shortest path using df_backward from id_to to id_from\n",
    "  res = [id_to]\n",
    "  while res[-1] != id_from:\n",
    "    for n in df_backward.loc[res[-1], 'follower_id']:\n",
    "      if n in df_forward.index and df_forward.loc[n, 'is_visited']:\n",
    "        res.append(n)\n",
    "        break\n",
    "  \n",
    "  return res[::-1]"
   ]
  }
 ],
 "metadata": {
  "kernelspec": {
   "display_name": "dsenv",
   "language": "python",
   "name": "python3"
  },
  "language_info": {
   "codemirror_mode": {
    "name": "ipython",
    "version": 3
   },
   "file_extension": ".py",
   "mimetype": "text/x-python",
   "name": "python",
   "nbconvert_exporter": "python",
   "pygments_lexer": "ipython3",
   "version": "3.10.13"
  }
 },
 "nbformat": 4,
 "nbformat_minor": 2
}
