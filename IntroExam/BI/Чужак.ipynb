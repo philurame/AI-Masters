{
 "cells": [
  {
   "cell_type": "markdown",
   "metadata": {},
   "source": [
    "# \"Предобработка\""
   ]
  },
  {
   "cell_type": "code",
   "execution_count": 252,
   "metadata": {},
   "outputs": [],
   "source": [
    "import pandas as pd\n",
    "import matplotlib.pyplot as plt\n",
    "import numpy as np"
   ]
  },
  {
   "cell_type": "code",
   "execution_count": 253,
   "metadata": {},
   "outputs": [],
   "source": [
    "vals = '0.78 3 0.4 9 0.61 7 4.5 20 0.41 2.8 4 10 0.08 3.4 3.8 10 0.03 1.3 2.2 6 0.52 8.3 6.2 100 0.19 2 1.8 1 0.78 4.5 2.7 18 0.05 2.1 5 20 0.31 8 6.8 35 0.65 4 4.2 17 0.39 7.5 5.5 30 0.64 5 5.2 21 0.97 2.3 1.4 2 0.59 7.1 5.1 25 0.97 3.4 0.2 5 0.97 9 5.7 70 0.20 0.4 7 13 0.48 6 1 16 0.47 1 3.3 1'"
   ]
  },
  {
   "cell_type": "markdown",
   "metadata": {},
   "source": [
    "так как нет никаких предположений о данных (это инопланентная цивилизация, может быть что угодно), то нам совершенно ничего не дает знание о том, что первая фича находится в отрезке [0, 1], поэтому для удобства скалируем ее до range остальных фичей."
   ]
  },
  {
   "cell_type": "code",
   "execution_count": 254,
   "metadata": {},
   "outputs": [],
   "source": [
    "L = list(map(float, vals.split(' ')))\n",
    "df = pd.DataFrame([L[i:i+4] for i in range(0, len(L), 4)], columns=['f1','f2','f3','price'])\n",
    "df.f1*=10"
   ]
  },
  {
   "cell_type": "markdown",
   "metadata": {},
   "source": [
    "# Попытка анализировать признаки:"
   ]
  },
  {
   "cell_type": "markdown",
   "metadata": {},
   "source": [
    "Нет смысла разбивать на Train, Test так как данных почти нет."
   ]
  },
  {
   "cell_type": "markdown",
   "metadata": {},
   "source": [
    "## PCA"
   ]
  },
  {
   "cell_type": "code",
   "execution_count": 247,
   "metadata": {},
   "outputs": [
    {
     "name": "stdout",
     "output_type": "stream",
     "text": [
      "[0.97524651 0.01670563 0.00505649 0.00299137]\n",
      "[105.74640567  13.84011856   7.61435458   5.85656984]\n"
     ]
    }
   ],
   "source": [
    "from sklearn.decomposition import PCA\n",
    "pca = PCA(n_components=4)\n",
    "pca.fit(df.to_numpy())\n",
    "print(pca.explained_variance_ratio_)\n",
    "print(pca.singular_values_)"
   ]
  },
  {
   "cell_type": "markdown",
   "metadata": {},
   "source": [
    "=> не можем утверждать, что некоторые фичи шум (конечно, всего же 20 строчек дано...)"
   ]
  },
  {
   "cell_type": "markdown",
   "metadata": {},
   "source": [
    "## Lasso"
   ]
  },
  {
   "cell_type": "code",
   "execution_count": 250,
   "metadata": {},
   "outputs": [
    {
     "name": "stdout",
     "output_type": "stream",
     "text": [
      "[0.61106979 5.15951444 4.06085122]\n"
     ]
    }
   ],
   "source": [
    "from sklearn import linear_model\n",
    "clf = linear_model.Lasso(alpha=0.1)\n",
    "clf.fit(df.iloc[:,:-1], df.iloc[:,-1])\n",
    "print(clf.coef_)"
   ]
  },
  {
   "cell_type": "markdown",
   "metadata": {},
   "source": [
    "Lasso не зануляет ни одну из фичей, поэтому опять же не можем утверждать бесполезность первой фичи."
   ]
  },
  {
   "cell_type": "markdown",
   "metadata": {},
   "source": [
    "## Надежда на линейность"
   ]
  },
  {
   "cell_type": "code",
   "execution_count": 251,
   "metadata": {},
   "outputs": [
    {
     "data": {
      "text/plain": [
       "0.6400517421474177"
      ]
     },
     "execution_count": 251,
     "metadata": {},
     "output_type": "execute_result"
    }
   ],
   "source": [
    "from sklearn.metrics import r2_score\n",
    "y_pred = linear_model.LinearRegression().fit(df.iloc[:,:-1], df.iloc[:,-1]).predict(df.iloc[:,:-1])\n",
    "r2_score(df.iloc[:,-1], y_pred)"
   ]
  },
  {
   "cell_type": "markdown",
   "metadata": {},
   "source": [
    "Безнадежно, r2_score сильно недостаточный для статистической значимости того, что данную функцию можно подобрать гиперплоскостью"
   ]
  },
  {
   "cell_type": "markdown",
   "metadata": {},
   "source": [
    "# Предположение: цена камня вычисляется как линейная функция от f(фичи), где f(x) - базовые функции вида\n",
    "# $x,\\ x^2,\\ x^3,\\ \\sqrt{x},\\ \\sqrt[3]{x},\\ sin(x),\\ cos(x)$\n",
    "(то есть понадеемся, что инопланетяне - обычные люди, использующие такие простые функции для рассчета стоимости камня)"
   ]
  },
  {
   "cell_type": "code",
   "execution_count": 255,
   "metadata": {},
   "outputs": [],
   "source": [
    "for i in range(1,4):\n",
    "  df[f'f{i}^2'] = df[f'f{i}']**2\n",
    "  df[f'f{i}^0.5'] = df[f'f{i}']**(0.5)\n",
    "  df[f'sin(f{i})'] = np.sin(df[f'f{i}'])\n",
    "  df[f'cos(f{i})'] = np.cos(df[f'f{i}'])\n",
    "  df[f'f{i}^3'] = df[f'f{i}']**3 \n",
    "  df[f'f{i}^0.33'] = df[f'f{i}']**(1/3)\n",
    "df = df[[i for i in df.columns if i!='price']+['price']]"
   ]
  },
  {
   "cell_type": "code",
   "execution_count": 262,
   "metadata": {},
   "outputs": [],
   "source": [
    "from sklearn.model_selection import train_test_split\n",
    "traincols = [i for i in df.columns if i not in ['price']]\n",
    "X_train, X_test, y_train, y_test = train_test_split(df.loc[:, traincols], df['price'], test_size=0.33, random_state=42)\n",
    "X_full, y_full = df.loc[:, traincols], df.loc[:,'price']"
   ]
  },
  {
   "cell_type": "markdown",
   "metadata": {},
   "source": [
    "Сначала посмотрим на регрессию на всех данных и подумаем, будто мы нашли эту самую f:"
   ]
  },
  {
   "cell_type": "code",
   "execution_count": 260,
   "metadata": {},
   "outputs": [
    {
     "data": {
      "text/plain": [
       "1.0"
      ]
     },
     "execution_count": 260,
     "metadata": {},
     "output_type": "execute_result"
    }
   ],
   "source": [
    "linreg = linear_model.LinearRegression().fit(X_full, y_full)\n",
    "y_pred = linreg.predict(X_full)\n",
    "r2_score(y_full, y_pred)"
   ]
  },
  {
   "cell_type": "markdown",
   "metadata": {},
   "source": [
    "мы в точности подобрали функцию для аппроксимации!!! - нет, это лишь оверфит в 20 строк данных... (посмотрим на трейн-тест вариант)"
   ]
  },
  {
   "cell_type": "code",
   "execution_count": 263,
   "metadata": {},
   "outputs": [
    {
     "data": {
      "text/plain": [
       "0.5567816508122327"
      ]
     },
     "execution_count": 263,
     "metadata": {},
     "output_type": "execute_result"
    }
   ],
   "source": [
    "linreg = linear_model.LinearRegression().fit(X_train, y_train)\n",
    "y_pred = linreg.predict(X_test)\n",
    "r2_score(y_test, y_pred)"
   ]
  },
  {
   "cell_type": "markdown",
   "metadata": {},
   "source": [
    "# Предположение 2: в ценообразование f(x) входят нелинейности вида \"если фича 1>0.5, то f(x), иначе g(x)\"\n"
   ]
  },
  {
   "cell_type": "markdown",
   "metadata": {},
   "source": [
    "К сожалению, 20 строк никак не хватит чтобы статистически проверить данное предположение."
   ]
  },
  {
   "cell_type": "markdown",
   "metadata": {},
   "source": [
    "# Что остается?"
   ]
  },
  {
   "cell_type": "markdown",
   "metadata": {},
   "source": [
    "Мой алгоритм для Элли:\\\n",
    "пока пользоваться простой \"линейной\" функцией из предположения 1, и при добавлении новых данных проверять гипотезу что это все еще та функция, а также попробовать использовать решающие деревья (при достаточно большом массиве данных)"
   ]
  }
 ],
 "metadata": {
  "kernelspec": {
   "display_name": "Python 3",
   "language": "python",
   "name": "python3"
  },
  "language_info": {
   "codemirror_mode": {
    "name": "ipython",
    "version": 3
   },
   "file_extension": ".py",
   "mimetype": "text/x-python",
   "name": "python",
   "nbconvert_exporter": "python",
   "pygments_lexer": "ipython3",
   "version": "3.10.0"
  },
  "orig_nbformat": 4
 },
 "nbformat": 4,
 "nbformat_minor": 2
}
