{
 "cells": [
  {
   "cell_type": "code",
   "execution_count": 4,
   "metadata": {},
   "outputs": [],
   "source": [
    "import matplotlib.pyplot as plt\n",
    "import matplotlib.patches as patches\n",
    "import random\n",
    "\n",
    "def plot_rect(big, smalls):\n",
    "  big_rectangle    = [big[0], big[1], big[2]-big[0], big[3]-big[1]]\n",
    "  small_rectangles = [[i[0], i[1], i[2]-i[0], i[3]-i[1]] for i in smalls]\n",
    "  \n",
    "  fig, ax = plt.subplots()\n",
    "\n",
    "  big_rect_patch = patches.Rectangle(\n",
    "      (big_rectangle[0], big_rectangle[1]),\n",
    "      big_rectangle[2],\n",
    "      big_rectangle[3],\n",
    "      linewidth=1,\n",
    "      edgecolor='black',\n",
    "      facecolor='none'\n",
    "  )\n",
    "  ax.add_patch(big_rect_patch)\n",
    "\n",
    "  for rect_coords in small_rectangles:\n",
    "      random_color = random.choice(['blue', 'green', 'yellow', 'red'])  # Choose random colors\n",
    "      small_rect_patch = patches.Rectangle(\n",
    "          (rect_coords[0], rect_coords[1]),\n",
    "          rect_coords[2],\n",
    "          rect_coords[3],\n",
    "          linewidth=1,\n",
    "          edgecolor='black',\n",
    "          facecolor=random_color\n",
    "      )\n",
    "      ax.add_patch(small_rect_patch)\n",
    "\n",
    "  colors = ['blue', 'green', 'yellow', 'red']\n",
    "  color_labels = [random.choice(colors) for _ in range(len(small_rectangles))]\n",
    "\n",
    "  color_patches = [patches.Patch(color=color) for color in color_labels]\n",
    "  ax.set_aspect('equal')\n",
    "  ax.set_xlim(0, big_rectangle[2])\n",
    "  ax.set_ylim(0, big_rectangle[3]) \n",
    "  plt.show()"
   ]
  },
  {
   "cell_type": "code",
   "execution_count": 82,
   "metadata": {},
   "outputs": [
    {
     "name": "stdout",
     "output_type": "stream",
     "text": [
      "12 87\n",
      "12 87 [(12, 0, 88, 86), (0, 87, 11, 86)] [(12, 0, 88, 86), (0, 87, 88, 86)] (0, 0, 12, 87) 89 87\n",
      "16 83\n",
      "16 83 [(95, 0, 88, 86), (12, 16, 94, 86)] [(95, 0, 88, 15), (12, 16, 88, 86)] (12, 0, 95, 16) 77 87\n"
     ]
    },
    {
     "ename": "IndexError",
     "evalue": "pop from empty list",
     "output_type": "error",
     "traceback": [
      "\u001b[0;31m---------------------------------------------------------------------------\u001b[0m",
      "\u001b[0;31mIndexError\u001b[0m                                Traceback (most recent call last)",
      "\u001b[1;32m/Users/philurame/Downloads/Контест DS/GUILLOTINE.ipynb Ячейка 2\u001b[0m in \u001b[0;36m<cell line: 96>\u001b[0;34m()\u001b[0m\n\u001b[1;32m     <a href='vscode-notebook-cell:/Users/philurame/Downloads/%D0%9A%D0%BE%D0%BD%D1%82%D0%B5%D1%81%D1%82%20DS/GUILLOTINE.ipynb#W1sZmlsZQ%3D%3D?line=93'>94</a>\u001b[0m ratios \u001b[39m=\u001b[39m train[\u001b[39m0\u001b[39m][\u001b[39m2\u001b[39m:]\n\u001b[1;32m     <a href='vscode-notebook-cell:/Users/philurame/Downloads/%D0%9A%D0%BE%D0%BD%D1%82%D0%B5%D1%81%D1%82%20DS/GUILLOTINE.ipynb#W1sZmlsZQ%3D%3D?line=94'>95</a>\u001b[0m g \u001b[39m=\u001b[39m Guillotine(H,W,ratios)\n\u001b[0;32m---> <a href='vscode-notebook-cell:/Users/philurame/Downloads/%D0%9A%D0%BE%D0%BD%D1%82%D0%B5%D1%81%D1%82%20DS/GUILLOTINE.ipynb#W1sZmlsZQ%3D%3D?line=95'>96</a>\u001b[0m g\u001b[39m.\u001b[39;49miterate()\n",
      "\u001b[1;32m/Users/philurame/Downloads/Контест DS/GUILLOTINE.ipynb Ячейка 2\u001b[0m in \u001b[0;36mGuillotine.iterate\u001b[0;34m(self)\u001b[0m\n\u001b[1;32m     <a href='vscode-notebook-cell:/Users/philurame/Downloads/%D0%9A%D0%BE%D0%BD%D1%82%D0%B5%D1%81%D1%82%20DS/GUILLOTINE.ipynb#W1sZmlsZQ%3D%3D?line=73'>74</a>\u001b[0m area_constr \u001b[39m=\u001b[39m (Area \u001b[39m-\u001b[39m \u001b[39msum\u001b[39m(\u001b[39mself\u001b[39m\u001b[39m.\u001b[39mratios))\u001b[39m/\u001b[39mr\u001b[39m*\u001b[39m\u001b[39m*\u001b[39m\u001b[39m2\u001b[39m\n\u001b[1;32m     <a href='vscode-notebook-cell:/Users/philurame/Downloads/%D0%9A%D0%BE%D0%BD%D1%82%D0%B5%D1%81%D1%82%20DS/GUILLOTINE.ipynb#W1sZmlsZQ%3D%3D?line=75'>76</a>\u001b[0m \u001b[39m# split and update area and coords\u001b[39;00m\n\u001b[0;32m---> <a href='vscode-notebook-cell:/Users/philurame/Downloads/%D0%9A%D0%BE%D0%BD%D1%82%D0%B5%D1%81%D1%82%20DS/GUILLOTINE.ipynb#W1sZmlsZQ%3D%3D?line=76'>77</a>\u001b[0m Fs0 \u001b[39m=\u001b[39m Fs\u001b[39m.\u001b[39;49mpop(\u001b[39m0\u001b[39;49m)\n\u001b[1;32m     <a href='vscode-notebook-cell:/Users/philurame/Downloads/%D0%9A%D0%BE%D0%BD%D1%82%D0%B5%D1%81%D1%82%20DS/GUILLOTINE.ipynb#W1sZmlsZQ%3D%3D?line=77'>78</a>\u001b[0m Fs1, Fs2, placed_coords, area \u001b[39m=\u001b[39m \u001b[39mself\u001b[39m\u001b[39m.\u001b[39msplit_iteration(Fs0, r, area_constr)\n\u001b[1;32m     <a href='vscode-notebook-cell:/Users/philurame/Downloads/%D0%9A%D0%BE%D0%BD%D1%82%D0%B5%D1%81%D1%82%20DS/GUILLOTINE.ipynb#W1sZmlsZQ%3D%3D?line=78'>79</a>\u001b[0m Area \u001b[39m-\u001b[39m\u001b[39m=\u001b[39m area\n",
      "\u001b[0;31mIndexError\u001b[0m: pop from empty list"
     ]
    }
   ],
   "source": [
    "class Guillotine:\n",
    "  def __init__(self, H, W, ratios):\n",
    "    self.ratios = sorted(ratios, reverse=True)\n",
    "    self.H = H\n",
    "    self.W = W\n",
    "    self.coords=[]\n",
    "  \n",
    "  def plot(self):\n",
    "    big = [0, 0, self.W, self.H]\n",
    "    smalls = self.coords\n",
    "    plot_rect(big, smalls)\n",
    "\n",
    "  def diff(self, pair, r):\n",
    "    return abs(max(pair)/min(pair)-r)\n",
    "  \n",
    "  def diff_rect(self, rect, r):\n",
    "    xl, yl, xr, yr = rect\n",
    "    W, H = xr-xl+1, yr-yl+1\n",
    "    return abs(max(W,H)/min(W,H)-r)\n",
    "  \n",
    "  def del_emptys(self, rects):\n",
    "    res = []\n",
    "    for r in rects:\n",
    "      diffx, diffy = r[2]-r[0], r[3]-r[1]\n",
    "      if diffx<-1 or diffy<-1: \n",
    "        return []\n",
    "      elif diffx>0 and diffy>0:\n",
    "        res.append(r)\n",
    "    return res\n",
    "  \n",
    "  def split_iteration(self, coords, r, areac_onstr): # areac_onstr = (globH*globW - sumr)/r**2\n",
    "    xl, yl, xr, yr = map(int, coords)\n",
    "    W, H = xr-xl+1, yr-yl+1\n",
    "    # split using the biggest ratio r1\n",
    "    # take n1 with the maximum value s.t. HW <= n1*r1^2+r2+...\n",
    "    # also n1r1<=max(H,W), n1<=max(H,W)\n",
    "    n1 = min(areac_onstr, max(H, W)/r, H, W)\n",
    "\n",
    "    # adjust n1, n1*r1 to integers keeping ratio:\n",
    "    n1 = int(max(n1, 1))\n",
    "    k=1\n",
    "    print(n1, int(n1*r))\n",
    "    while (self.diff((n1, bigger:=int(n1*r)), r)>=0.1) and (n1>0) and (bigger<=max(H, W)):\n",
    "      print('A')\n",
    "      n1 -= k\n",
    "      k = -k - 1 if k>0 else -k + 1\n",
    "    bigger = int(n1*r)\n",
    "    assert(self.diff((n1, int(n1*r)), r)<0.1 and n1>=0 and n1<=min(areac_onstr, H, W) and bigger<=max(H, W))\n",
    "    \n",
    "\n",
    "    # now orient it in the way that it could fill bigger side\n",
    "    # place it in the left lower corner\n",
    "    is_horizontal = H-bigger<0 or (W-bigger <= H-bigger)\n",
    "\n",
    "    if is_horizontal:\n",
    "      rects1 = [(xl+bigger, yl, xr, yr), (xl, yl+n1, xl+bigger-1, yr)] # vertical\n",
    "      rects2 = [(xl+bigger, yl, xr, yl+n1-1), (xl, yl+n1, xr, yr)]     # hor line\n",
    "      placed_coords = (xl,yl, xl+bigger, yl+n1)\n",
    "    else:\n",
    "      rects1 = [(xl+n1, yl, xr, yr), (xl, yl+bigger, xl+n1-1, yr)]\n",
    "      rects2 = [(xl+n1, yl, xr, yl+bigger-1), (xl, yl+bigger, xr, yr)]\n",
    "      placed_coords = (xl,yl, xl+n1, yl+bigger)\n",
    "    \n",
    "    # if not self.del_emptys(rects1)+self.del_emptys(rects2):\n",
    "    print(n1, bigger, rects1, rects2, placed_coords, W, H)\n",
    "\n",
    "    return self.del_emptys(rects1), self.del_emptys(rects2), placed_coords, n1*bigger\n",
    "\n",
    "  def iterate(self):\n",
    "    Fs = [(0, 0, self.W-1, self.H-1)]\n",
    "    Area = self.W*self.H\n",
    "    while self.ratios:\n",
    "      r = self.ratios.pop(0)\n",
    "      area_constr = (Area - sum(self.ratios))/r**2\n",
    "\n",
    "      # split and update area and coords\n",
    "      Fs0 = Fs.pop(0)\n",
    "      Fs1, Fs2, placed_coords, area = self.split_iteration(Fs0, r, area_constr)\n",
    "      Area -= area\n",
    "      self.coords.append(placed_coords)\n",
    "\n",
    "      if not Fs1 or not Fs2:\n",
    "        Fs += Fs1+Fs2\n",
    "      elif self.ratios: # compute which split is better by best next ratio:\n",
    "        nextr = self.ratios[0]\n",
    "        if self.diff_rect(Fs1[0],nextr)<=self.diff_rect(Fs2[0],nextr):\n",
    "          Fs += Fs1\n",
    "        else:\n",
    "          Fs += Fs2\n",
    "      # sort rects by fit ratio:\n",
    "      Fs.sort(key=lambda x: self.diff_rect(x,r))\n",
    "\n",
    "H, W = train[0][:2]\n",
    "ratios = train[0][2:]\n",
    "g = Guillotine(H,W,ratios)\n",
    "g.iterate()"
   ]
  },
  {
   "cell_type": "code",
   "execution_count": 83,
   "metadata": {},
   "outputs": [
    {
     "name": "stdout",
     "output_type": "stream",
     "text": [
      "12 87\n",
      "12 87 [(12, 0, 88, 86), (0, 87, 11, 86)] [(12, 0, 88, 86), (0, 87, 88, 86)] (0, 0, 12, 87) 89 87\n",
      "16 83\n",
      "16 83 [(95, 0, 88, 86), (12, 16, 94, 86)] [(95, 0, 88, 15), (12, 16, 88, 86)] (12, 0, 95, 16) 77 87\n"
     ]
    },
    {
     "ename": "IndexError",
     "evalue": "pop from empty list",
     "output_type": "error",
     "traceback": [
      "\u001b[0;31m---------------------------------------------------------------------------\u001b[0m",
      "\u001b[0;31mIndexError\u001b[0m                                Traceback (most recent call last)",
      "\u001b[1;32m/Users/philurame/Downloads/Контест DS/GUILLOTINE.ipynb Ячейка 3\u001b[0m in \u001b[0;36m<cell line: 8>\u001b[0;34m()\u001b[0m\n\u001b[1;32m      <a href='vscode-notebook-cell:/Users/philurame/Downloads/%D0%9A%D0%BE%D0%BD%D1%82%D0%B5%D1%81%D1%82%20DS/GUILLOTINE.ipynb#X13sZmlsZQ%3D%3D?line=5'>6</a>\u001b[0m ratios \u001b[39m=\u001b[39m train[\u001b[39m0\u001b[39m][\u001b[39m2\u001b[39m:]\n\u001b[1;32m      <a href='vscode-notebook-cell:/Users/philurame/Downloads/%D0%9A%D0%BE%D0%BD%D1%82%D0%B5%D1%81%D1%82%20DS/GUILLOTINE.ipynb#X13sZmlsZQ%3D%3D?line=6'>7</a>\u001b[0m g \u001b[39m=\u001b[39m Guillotine(H,W,ratios)\n\u001b[0;32m----> <a href='vscode-notebook-cell:/Users/philurame/Downloads/%D0%9A%D0%BE%D0%BD%D1%82%D0%B5%D1%81%D1%82%20DS/GUILLOTINE.ipynb#X13sZmlsZQ%3D%3D?line=7'>8</a>\u001b[0m g\u001b[39m.\u001b[39;49miterate()\n\u001b[1;32m      <a href='vscode-notebook-cell:/Users/philurame/Downloads/%D0%9A%D0%BE%D0%BD%D1%82%D0%B5%D1%81%D1%82%20DS/GUILLOTINE.ipynb#X13sZmlsZQ%3D%3D?line=8'>9</a>\u001b[0m g\u001b[39m.\u001b[39mplot()\n",
      "\u001b[1;32m/Users/philurame/Downloads/Контест DS/GUILLOTINE.ipynb Ячейка 3\u001b[0m in \u001b[0;36mGuillotine.iterate\u001b[0;34m(self)\u001b[0m\n\u001b[1;32m     <a href='vscode-notebook-cell:/Users/philurame/Downloads/%D0%9A%D0%BE%D0%BD%D1%82%D0%B5%D1%81%D1%82%20DS/GUILLOTINE.ipynb#X13sZmlsZQ%3D%3D?line=73'>74</a>\u001b[0m area_constr \u001b[39m=\u001b[39m (Area \u001b[39m-\u001b[39m \u001b[39msum\u001b[39m(\u001b[39mself\u001b[39m\u001b[39m.\u001b[39mratios))\u001b[39m/\u001b[39mr\u001b[39m*\u001b[39m\u001b[39m*\u001b[39m\u001b[39m2\u001b[39m\n\u001b[1;32m     <a href='vscode-notebook-cell:/Users/philurame/Downloads/%D0%9A%D0%BE%D0%BD%D1%82%D0%B5%D1%81%D1%82%20DS/GUILLOTINE.ipynb#X13sZmlsZQ%3D%3D?line=75'>76</a>\u001b[0m \u001b[39m# split and update area and coords\u001b[39;00m\n\u001b[0;32m---> <a href='vscode-notebook-cell:/Users/philurame/Downloads/%D0%9A%D0%BE%D0%BD%D1%82%D0%B5%D1%81%D1%82%20DS/GUILLOTINE.ipynb#X13sZmlsZQ%3D%3D?line=76'>77</a>\u001b[0m Fs0 \u001b[39m=\u001b[39m Fs\u001b[39m.\u001b[39;49mpop(\u001b[39m0\u001b[39;49m)\n\u001b[1;32m     <a href='vscode-notebook-cell:/Users/philurame/Downloads/%D0%9A%D0%BE%D0%BD%D1%82%D0%B5%D1%81%D1%82%20DS/GUILLOTINE.ipynb#X13sZmlsZQ%3D%3D?line=77'>78</a>\u001b[0m Fs1, Fs2, placed_coords, area \u001b[39m=\u001b[39m \u001b[39mself\u001b[39m\u001b[39m.\u001b[39msplit_iteration(Fs0, r, area_constr)\n\u001b[1;32m     <a href='vscode-notebook-cell:/Users/philurame/Downloads/%D0%9A%D0%BE%D0%BD%D1%82%D0%B5%D1%81%D1%82%20DS/GUILLOTINE.ipynb#X13sZmlsZQ%3D%3D?line=78'>79</a>\u001b[0m Area \u001b[39m-\u001b[39m\u001b[39m=\u001b[39m area\n",
      "\u001b[0;31mIndexError\u001b[0m: pop from empty list"
     ]
    }
   ],
   "source": [
    "with open('task1.csv', 'r') as f:\n",
    "  train = f.readlines()[1:]\n",
    "  train = [list(map(float, i[:-1].split(','))) for i in train]\n",
    "\n",
    "H, W = train[0][:2]\n",
    "ratios = train[0][2:]\n",
    "g = Guillotine(H,W,ratios)\n",
    "g.iterate()\n",
    "g.plot()"
   ]
  },
  {
   "cell_type": "code",
   "execution_count": 79,
   "metadata": {},
   "outputs": [
    {
     "data": {
      "text/plain": [
       "6.571428571428571"
      ]
     },
     "execution_count": 79,
     "metadata": {},
     "output_type": "execute_result"
    }
   ],
   "source": [
    "92/14"
   ]
  }
 ],
 "metadata": {
  "kernelspec": {
   "display_name": "Python 3",
   "language": "python",
   "name": "python3"
  },
  "language_info": {
   "codemirror_mode": {
    "name": "ipython",
    "version": 3
   },
   "file_extension": ".py",
   "mimetype": "text/x-python",
   "name": "python",
   "nbconvert_exporter": "python",
   "pygments_lexer": "ipython3",
   "version": "3.10.0"
  },
  "orig_nbformat": 4
 },
 "nbformat": 4,
 "nbformat_minor": 2
}
