{
 "cells": [
  {
   "cell_type": "code",
   "execution_count": null,
   "metadata": {},
   "outputs": [],
   "source": [
    "def isValid(diff):\n",
    "  return abs(diff)<0.1\n",
    "\n",
    "def embeddings(HW, ratio):\n",
    "  H, W = HW\n",
    "  newHWs = []\n",
    "  if W<=H:\n",
    "    h = int(W*ratio)\n",
    "    if isValid((h+1)/W - ratio):\n",
    "      newHWs.append((H-h-1, W))\n",
    "    if isValid(h/W - ratio):\n",
    "      newHWs.append((H-h, W))\n",
    "\n",
    "    w = int(H/ratio)\n",
    "    if isValid(H/(w+1) - ratio):\n",
    "      newHWs.append((W-w-1,H))\n",
    "    if isValid(H/w - ratio):\n",
    "      newHWs.append((W-w, H))\n",
    "  else:\n",
    "    pass\n",
    "  return newHWs\n",
    "\n",
    "def iterate(HW, ratios): # ratios are descending sorted\n",
    "  if not ratios:\n",
    "    hw = HW[0]*HW[1]\n",
    "    if not hw:\n",
    "      print('HERE')\n",
    "    return hw\n",
    "  newHWs = [embeddings(HW, ratio) for ratio in ratios]\n",
    "  return min(iterate(newHWs[i],ratios[:i]+ratios[i+1:]) for i in range(len(newHWs)-1))\n",
    "\n",
    "\n"
   ]
  }
 ],
 "metadata": {
  "kernelspec": {
   "display_name": "Python 3",
   "language": "python",
   "name": "python3"
  },
  "language_info": {
   "codemirror_mode": {
    "name": "ipython",
    "version": 3
   },
   "file_extension": ".py",
   "mimetype": "text/x-python",
   "name": "python",
   "nbconvert_exporter": "python",
   "pygments_lexer": "ipython3",
   "version": "3.10.0"
  },
  "orig_nbformat": 4
 },
 "nbformat": 4,
 "nbformat_minor": 2
}
