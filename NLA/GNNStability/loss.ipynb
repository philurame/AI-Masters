{
 "cells": [
  {
   "cell_type": "code",
   "execution_count": 18,
   "metadata": {},
   "outputs": [],
   "source": [
    "from torch_geometric.data import Data\n",
    "from torch_geometric.utils import to_dense_adj\n",
    "import torch\n",
    "import numpy as np\n",
    "\n",
    "# batch (Nbatch, Nfeatrs), randomFriend of the shape (Nbatch, Nfeatrs)\n",
    "# randomEnemies of the shape (Nenem, Nbatch, Nfeatrs)\n",
    "def loss_fn(batchX, randomFriend, randomEnemies, Q=1):\n",
    "  fst = -torch.log(torch.sigmoid(torch.sum(batchX*randomFriend, dim=1)))\n",
    "  snd = -Q*torch.mean(torch.log(torch.sigmoid(-torch.sum(randomEnemies * batchX,  dim=2))), dim=0)\n",
    "  return torch.mean(fst+snd)\n",
    "\n",
    "def _test_loss_fn(batchX, randomFriend, randomEnemies):\n",
    "  fst = -torch.log(torch.sigmoid(torch.sum(batchX*randomFriend, dim=1))) # it is ok\n",
    "  snd = []\n",
    "  for i in range(randomEnemies.shape[0]):\n",
    "    snd.append(-torch.log(torch.sigmoid(-torch.sum(batchX*randomEnemies[i], dim=1))))\n",
    "  snd = torch.mean(torch.stack(snd), dim=0)\n",
    "  return torch.mean(fst+snd)"
   ]
  },
  {
   "cell_type": "code",
   "execution_count": 290,
   "metadata": {},
   "outputs": [
    {
     "data": {
      "text/plain": [
       "tensor(2.7442)"
      ]
     },
     "execution_count": 290,
     "metadata": {},
     "output_type": "execute_result"
    }
   ],
   "source": [
    "Nbatch  = 100\n",
    "Nfeatrs = 10\n",
    "Nenem   = 10\n",
    "batch = torch.rand((Nbatch, Nfeatrs))\n",
    "randomFriend = torch.rand((Nbatch, Nfeatrs))\n",
    "randomEnemies = torch.rand((Nenem, Nbatch, Nfeatrs))\n",
    "\n",
    "torch.allclose(_test_loss_fn(batch, randomFriend, randomEnemies), \n",
    "               loss_fn(batch, randomFriend, randomEnemies)\n",
    "               )\n",
    "loss_fn(batch, randomFriend, randomEnemies)"
   ]
  },
  {
   "cell_type": "code",
   "execution_count": 198,
   "metadata": {},
   "outputs": [],
   "source": [
    "np.random.seed(42)\n",
    "Nnodes = 100\n",
    "Nfeatrs = 10\n",
    "connctns = torch.tensor(np.random.choice(Nnodes, size=(2, Nnodes), replace=True))\n",
    "connctns = torch.concat([connctns, connctns[[1,0]]], dim=1)\n",
    "\n",
    "X = np.random.random((Nnodes, Nfeatrs))\n",
    "X = torch.tensor(X)\n",
    "gData = Data(X, connctns)\n",
    "\n",
    "# make dict out of nodes:\n",
    "edge_dict = {i:[] for i in range(Nnodes)}\n",
    "for edge in connctns.reshape(-1,2).numpy():\n",
    "  edge_dict[edge[0]].append(edge[1])"
   ]
  },
  {
   "cell_type": "code",
   "execution_count": 296,
   "metadata": {},
   "outputs": [],
   "source": [
    "def get_random_repr(node):\n",
    "  variants = edge_dict.get(node, [])\n",
    "  if variants:\n",
    "    return X[np.random.choice(variants)]\n",
    "  return torch.zeros(Nfeatrs)\n",
    "\n",
    "Nepochs = 10\n",
    "Nbatch  = Nnodes//10\n",
    "for epoch in range(Nepochs):\n",
    "  idxperm = torch.randperm(Nnodes)\n",
    "  for batch in range(Nnodes//Nbatch):\n",
    "    pidxs  = idxperm[batch*Nbatch:(batch+1)*Nbatch]\n",
    "    batchX = X[pidxs]\n",
    "\n",
    "    # get randomFriend and randomEnemies:\n",
    "    randomFriend = torch.stack(list(map(get_random_repr, pidxs.numpy())), dim=0)\n",
    "    randomEnemies = X[np.random.choice(Nnodes, Nenem*Nbatch)].reshape(Nenem, Nbatch, Nfeatrs)\n",
    "\n",
    "    loss = loss_fn(batchX, randomFriend, randomEnemies)"
   ]
  },
  {
   "cell_type": "code",
   "execution_count": 299,
   "metadata": {},
   "outputs": [
    {
     "data": {
      "text/plain": [
       "array([ True,  True,  True,  True,  True,  True,  True,  True,  True,\n",
       "        True,  True,  True,  True,  True,  True,  True,  True,  True,\n",
       "        True,  True,  True,  True,  True,  True,  True,  True,  True,\n",
       "        True,  True,  True,  True,  True,  True,  True,  True,  True,\n",
       "        True,  True,  True,  True,  True,  True,  True,  True,  True,\n",
       "        True,  True,  True,  True,  True,  True,  True,  True,  True,\n",
       "        True,  True,  True,  True,  True,  True,  True,  True,  True,\n",
       "        True,  True,  True,  True,  True,  True,  True,  True,  True,\n",
       "        True,  True,  True,  True,  True,  True,  True,  True,  True,\n",
       "        True,  True,  True,  True,  True,  True,  True,  True,  True,\n",
       "        True,  True,  True,  True,  True,  True,  True,  True,  True,\n",
       "        True])"
      ]
     },
     "execution_count": 299,
     "metadata": {},
     "output_type": "execute_result"
    }
   ],
   "source": [
    "A = np.random.rand(100*100,100)\n",
    "B = A.reshape((100, 100, 100))\n",
    "A[1]==B[0][1]"
   ]
  }
 ],
 "metadata": {
  "kernelspec": {
   "display_name": "Python 3",
   "language": "python",
   "name": "python3"
  },
  "language_info": {
   "codemirror_mode": {
    "name": "ipython",
    "version": 3
   },
   "file_extension": ".py",
   "mimetype": "text/x-python",
   "name": "python",
   "nbconvert_exporter": "python",
   "pygments_lexer": "ipython3",
   "version": "3.10.0"
  }
 },
 "nbformat": 4,
 "nbformat_minor": 2
}
