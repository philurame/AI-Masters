{
 "cells": [
  {
   "cell_type": "markdown",
   "metadata": {},
   "source": [
    "# Домашнее задание 1 (28 pts)"
   ]
  },
  {
   "cell_type": "markdown",
   "metadata": {},
   "source": [
    "- (2 pts) Докажите, что $\\| A \\|_F \\le \\sqrt{\\mathrm{rank}(A)} \\| A \\|_2$.\n",
    "- (2 pts) Покажите, что для любых $m, n$ и $k \\le \\min(m, n)$ существует $A \\in \\mathbb{R}^{m \\times n}: \\mathrm{rank}(A) = k$, такая что $\\| A \\|_F = \\sqrt{\\mathrm{rank}(A)} \\| A \\|_2$.\n",
    "- (2 pts) Докажите, что $\\| A B \\|_F \\le \\| A \\|_2 \\| B \\|_F$.\n",
    "\n",
    "- (2 pts) Пусть матрица $A \\in \\mathbb{C}^{n \\times n}$ и её сингулярное разложение $A = U\\Sigma V^*$. Найдите сингулярное разложение матрицы $\\begin{bmatrix} 0 & A^* \\\\ A & 0 \\end{bmatrix}$ размера $2n \\times 2n$\n",
    "- (7 pts) Пусть известно QR разложение прямоугольной $m\\times n, m > n$ матрицы $A = QR$. Покажите, как изменится данное разложение при следующих изменениях матрицы $A$\n",
    "    - замена $k$-го столбца на другой вектор-столбец\n",
    "    - конкатенация новой строки - новая матрица размерности $(m+1) \\times n$\n",
    "    - конкатенация нового столбца - новая матрица размерности $m \\times n+1$\n",
    "\n",
    "Оцените сложность каждого из этих преобразований. Реализуйте все три преобразования и покажите численно, что ваши алгоритмы обновлений работают корректно и быстрее наивных реализаций с полным пересчётом матриц $Q$ и $R$. Используйте тестовые матрицы размерностями не меньше нескольких сотен строк и столбцов.\n",
    "\n",
    "- (2 pts) Получите сингулярное разложение и спектральную норму матрицы $A = u_1v_1^* + u_2v_2^*$, где $u_{1,2} \\in \\mathbb{C}^m, v_{1,2} \\in \\mathbb{C}^n$\n",
    "- (3 pts) Пусть $A$ такая матрица, что $a_{i,j} \\geq 0$ и $\\sum_{j}a_{i,j} = 1$ (сумма элементов вкаждой строке равна 1). Докажите, что $A$ имеет собственное значение $\\lambda=1$ и что все собственные значения $\\lambda_i$ таковы что $|\\lambda_i| \\le 1$  \n",
    "- (3 pts) Докажите, что нормальная матрица Эрмитова iff её собственные значения действительны. Докажите, что нормальная матрица унитарна iff все её собственные значения таковы что $|\\lambda| = 1$. \n",
    "\n",
    "Iff означает тогда и только тогда\n",
    "\n",
    "- (5 pts) Найдите аналитическое выражение для собственнных значений возмущённого Жорданова блока\n",
    "    \n",
    "    $$ J(\\varepsilon) =\n",
    "        \\begin{bmatrix}\n",
    "         \\lambda & 1 & & & 0 \\\\\n",
    "        0 & \\lambda & 1 & & \\\\\n",
    "         0 & 0 & \\ddots & \\ddots & \\\\\n",
    "         \\ldots & \\ldots & \\ldots & \\lambda & 1 \\\\\n",
    "         \\varepsilon & 0 & 0 & 0 & \\lambda  \\\\\n",
    "        \\end{bmatrix}_{n\\times n}\n",
    "    $$\n",
    "    \n",
    "    Прокомментируйте как собственные значения $J(0)$ возмущены для больших $n$? Что это говорит об устойчивости получения спектра матрицы через Жорданов блок?"
   ]
  },
  {
   "cell_type": "markdown",
   "metadata": {},
   "source": [
    "---"
   ]
  },
  {
   "cell_type": "markdown",
   "metadata": {},
   "source": [
    "---"
   ]
  },
  {
   "cell_type": "markdown",
   "metadata": {},
   "source": [
    "## (2 pts) Докажите, что $\\| A \\|_F \\le \\sqrt{\\mathrm{rank}(A)} \\| A \\|_2$."
   ]
  },
  {
   "cell_type": "markdown",
   "metadata": {},
   "source": [
    "Очевидно, что можно переписать условие в следующем виде:\n",
    "- $\\sqrt{tr(A^*A)}\\leq \\sqrt{rk(A)}\\sqrt{\\lambda_{\\max} (A^*A)}$\n",
    "  \n",
    "Далее, $tr(A^*A)=\\sum\\lambda_i(A^*A)\\leq rk(A^*A)\\lambda_{\\max}(A^*A)=rk(A)\\lambda_{\\max}(A^*A)$, чтд. (неравенство очевидно тк ненулевых собств. значений ровно $rk(A^*A)$)"
   ]
  },
  {
   "cell_type": "markdown",
   "metadata": {},
   "source": [
    "## (2 pts) Покажите, что для любых $m, n$ и $k \\le \\min(m, n)$ существует $A \\in \\mathbb{R}^{m \\times n}: \\mathrm{rank}(A) = k$, такая что $\\| A \\|_F = \\sqrt{\\mathrm{rank}(A)} \\| A \\|_2$."
   ]
  },
  {
   "cell_type": "markdown",
   "metadata": {},
   "source": [
    "- хотим, чтобы $tr(A^*A)= rk(A)\\lambda_{\\max} (A^*A)\\Leftrightarrow\\forall i\\ \\lambda_i(A^*A)=\\lambda_{\\max}(A^*A)\\Rightarrow$\n",
    "- таким образом, подойдет $A_{ij}=\\delta(i=j,i\\leq k)\\quad (rk(A)=k, \\forall i\\ \\lambda_i(A^*A)=1.)$\n"
   ]
  },
  {
   "cell_type": "markdown",
   "metadata": {},
   "source": [
    "## (2 pts) Докажите, что $\\| A B \\|_F \\le \\| A \\|_2 \\| B \\|_F$."
   ]
  },
  {
   "cell_type": "markdown",
   "metadata": {},
   "source": [
    "Лемма: $C,D\\in S^n\\Rightarrow tr(CD)\\leq\\lambda_{\\max}(C)tr(D)$. Док-во: \n",
    "- $C=U\\Sigma U^*\\Rightarrow tr(CD)=tr(U\\Sigma U^*D)=tr(\\Sigma U^*DU)=\\sum\\lambda_i(U^*DU)_{ii}\\leq\\lambda_{\\max}(C)tr(U^*DU)=\\lambda_{\\max}(C)tr(D)$\n",
    "\n",
    "Теперь все просто:\n",
    "- $\\|AB\\|^2_F=tr(ABB^*A^*)=tr(A^*ABB^*)\\leq\\lambda_{\\max}(A^*A)tr(BB^*)=\\lambda_{\\max}(A^*A)tr(B^*B)=\\|A\\|_2^2\\|B\\|_F^2$"
   ]
  },
  {
   "cell_type": "markdown",
   "metadata": {},
   "source": [
    "## (2 pts) Пусть матрица $A \\in \\mathbb{C}^{n \\times n}$ и её сингулярное разложение $A = U\\Sigma V^*$. Найдите сингулярное разложение матрицы $\\begin{bmatrix} 0 & A^* \\\\ A & 0 \\end{bmatrix}$ размера $2n \\times 2n$"
   ]
  },
  {
   "cell_type": "markdown",
   "metadata": {},
   "source": [
    "- $A = U\\Sigma V^*\\Rightarrow \\Sigma = U^*A V,\\ \\Sigma^*=V^*A^*U$\n",
    "- $\\widetilde{U}^*:=\\begin{bmatrix} 0 & U^* \\\\ V^* & 0 \\end{bmatrix},\\ \\widetilde{V}=\\begin{bmatrix} V & 0 \\\\ 0 & U \\end{bmatrix}\\Rightarrow \\widetilde{U}^*\\begin{bmatrix} 0 & A^* \\\\ A & 0 \\end{bmatrix}\\widetilde{V}=\\begin{bmatrix} \\Sigma & 0 \\\\ 0 & \\Sigma^* \\end{bmatrix}\\Rightarrow\\begin{bmatrix} 0 & A^* \\\\ A & 0 \\end{bmatrix}=\\widetilde{U}\\begin{bmatrix} \\Sigma & 0 \\\\ 0 & \\Sigma^* \\end{bmatrix}\\widetilde{V}^*$\n",
    "\n",
    "P.S. очевидно, что $\\widetilde{U}\\widetilde{U}^*=\\widetilde{V}\\widetilde{V}^*=I_{2n}$"
   ]
  },
  {
   "cell_type": "markdown",
   "metadata": {},
   "source": [
    "## (7 pts) Пусть известно QR разложение прямоугольной $m\\times n, m > n$ матрицы $A = QR$. Покажите, как изменится данное разложение при следующих изменениях матрицы $A$\n",
    "- замена $k$-го столбца на другой вектор-столбец\n",
    "- конкатенация новой строки - новая матрица размерности $(m+1) \\times n$\n",
    "- конкатенация нового столбца - новая матрица размерности $m \\times (n+1)$\n",
    "\n",
    "Оцените сложность каждого из этих преобразований. Реализуйте все три преобразования и покажите численно, что ваши алгоритмы обновлений работают корректно и быстрее наивных реализаций с полным пересчётом матриц $Q$ и $R$. Используйте тестовые матрицы размерностями не меньше нескольких сотен строк и столбцов."
   ]
  },
  {
   "cell_type": "markdown",
   "metadata": {},
   "source": [
    "### 1. замена $k$-го столбца на другой вектор-столбец\n",
    "все что удалось придумать - доразложить \"испорченные\" n-k+1 столбцов, начиная с k-го:\n",
    "\n",
    "- $A=QR,\\ A'_k=v\\Rightarrow A'=QR',\\ R'_k=Q^*v$, после чего применяем $QR$ - разложение к $R'$ ну и производняем исходную и новую Q.\n",
    "\n",
    "Сложность: для матрицы $n\\times n$ для $i$ столбца $\\leq C\\cdot(n-i)^{2}$ операций + перемножение $Q$ что $\\approx O(n^3)$ $\\Rightarrow$ всего $\\sum\\limits_{i=k}^nn^{3}=O((n-k)n^3)$, что для фиксированного $k$ не отличается от стандартного $QR$"
   ]
  },
  {
   "cell_type": "code",
   "execution_count": 196,
   "metadata": {},
   "outputs": [],
   "source": [
    "import numpy as np\n",
    "\n",
    "def QR(A):\n",
    "  m, n = A.shape\n",
    "  Q = np.eye(m)\n",
    "  for i in range(min(m,n)):\n",
    "    v  = A[i:,i].copy()\n",
    "    v[0] -= np.linalg.norm(v)\n",
    "    v /= np.linalg.norm(v)\n",
    "    Qi  = np.eye(m-i) - 2*v.reshape(-1,1)@v.reshape(1,-1)\n",
    "    Qi  = np.block([[np.eye(i), np.zeros((i,m-i))],[np.zeros((m-i,i)), Qi]])\n",
    "    A = Qi@A\n",
    "    Q = Q@Qi\n",
    "  return Q, A\n",
    "\n",
    "def QRk(Q, R, k, v):\n",
    "  m, n = R.shape\n",
    "  R[:,k] = Q.T@v\n",
    "  Qnew, Rnew = QR(R[k:,k:])\n",
    "  Qnew = Q@np.block([[np.eye(k), np.zeros((k,m-k))],[np.zeros((m-k,k)), Qnew]])\n",
    "  Rnew = np.block([[R[:k]],[np.zeros((m-k,k)), Rnew]])\n",
    "  return Qnew, Rnew"
   ]
  },
  {
   "cell_type": "code",
   "execution_count": 263,
   "metadata": {},
   "outputs": [],
   "source": [
    "np.random.seed(42)\n",
    "\n",
    "# QR работает ли?\n",
    "m = np.random.randint(102,201)\n",
    "n = np.random.randint(100,m)\n",
    "A = np.random.rand(m,n) * np.random.randint(1,102)\n",
    "Q, R = QR(A)\n",
    "assert(np.allclose(Q@R,A) and np.allclose(Q@Q.T,np.eye(m)) and np.allclose(R, np.triu(R)))\n",
    "\n",
    "# QRk работает ли?\n",
    "k    = np.random.choice(m)\n",
    "vnew = np.random.rand(m) * np.random.randint(1,102)\n",
    "Anew = np.concatenate([A[:,:k],vnew.reshape(-1,1), A[:,k+1:]], axis=1)\n",
    "Qnew, Rnew = QRk(Q, R, k, vnew)\n",
    "assert(np.allclose(Qnew@Rnew,Anew) and np.allclose(Qnew@Qnew.T,np.eye(m)) and np.allclose(Rnew, np.triu(Rnew)))"
   ]
  },
  {
   "cell_type": "code",
   "execution_count": 281,
   "metadata": {},
   "outputs": [
    {
     "name": "stdout",
     "output_type": "stream",
     "text": [
      "QRk | Total time: 56.758, Average time: 0.044\n",
      "QR  | Total time: 173.724, Average time: 0.135\n"
     ]
    }
   ],
   "source": [
    "# функции для тестинга произв-ти: будем тестить на всех колонках k\n",
    "import time\n",
    "\n",
    "def testQRK(AQRV):\n",
    "  startT = time.time()\n",
    "  for A, Q, R, V in AQRV:\n",
    "    for k in range(A.shape[1]):\n",
    "      QRk(Q, R, k, V)\n",
    "  return time.time()-startT\n",
    "\n",
    "def testQR(AQRV):\n",
    "  startT = time.time()\n",
    "  for A, Q, R, V in AQRV:\n",
    "    for k in range(A.shape[1]):\n",
    "      Anew = np.concatenate([A[:,:k],V.reshape(-1,1), A[:,k+1:]], axis=1)\n",
    "      QR(Anew)\n",
    "  return time.time()-startT\n",
    "\n",
    "# создадим 'howMany' примеров\n",
    "np.random.seed(42)\n",
    "howMany = 10\n",
    "AQRV = []\n",
    "for i in range(howMany):\n",
    "  m = np.random.randint(102,201)\n",
    "  n = np.random.randint(100,m)\n",
    "  A = np.random.rand(m,n) * np.random.randint(1,102)\n",
    "  V = np.random.rand(m) * np.random.randint(1,102)\n",
    "  AQRV.append((A, *QR(A), V))\n",
    "\n",
    "# Total time - суммарное время, Average - время на 1 пример\n",
    "QRkTime = testQRK(AQRV)\n",
    "print(f'QRk | Total time: {QRkTime:.3f}, Average time: {QRkTime/sum([A[0].shape[1] for A in AQRV]):.3f}')\n",
    "\n",
    "QRTime = testQR(AQRV)\n",
    "print(f'QR  | Total time: {QRTime:.3f}, Average time: {QRTime/sum([A[0].shape[1] for A in AQRV]):.3f}')"
   ]
  },
  {
   "cell_type": "markdown",
   "metadata": {},
   "source": [
    "конечно, предложенный алгоритм в среднем быстрее чем наивный, но, как мне кажется, можно ассимптотически сделать лучше (непонятно как)"
   ]
  },
  {
   "cell_type": "markdown",
   "metadata": {},
   "source": [
    "### 2. конкатенация новой строки\n",
    "\n",
    "a) сначала расширим $Q:\\ Q_{m+1,i}= Q_{i,m+1}=\\delta(i=m+1)$\\\n",
    "b) теперь в $R$ нужно добавить новую строчку $R_{m+1,i}=A_{m+1,i}$\\\n",
    "c) умножим на матрицу перестановки чтобы слеоать последнюю строку $R$ первой\\\n",
    "d) $R$ стала Гейзенберговой матрицей, применяем QR к двум строкам на каждой итерации.\n",
    "\n",
    "Сложность: $Q$ получаем за $O(m^2)$ остальное бесплатно"
   ]
  },
  {
   "cell_type": "code",
   "execution_count": 456,
   "metadata": {},
   "outputs": [],
   "source": [
    "def QRrow(Q,R,row):\n",
    "  m, n = R.shape\n",
    "  Q = np.block([[Q, np.zeros((m,1))],[np.zeros((1,m)), 1]])\n",
    "  Q = Q@np.eye(m+1)[[i for i in range(1,m+1)]+[0]]\n",
    "  R = np.concatenate([row.reshape(1,-1),R], axis=0)\n",
    "  for i in range(min(m+1,n)):\n",
    "    v  = R[i:i+2,i].copy()\n",
    "    v[0] -= np.linalg.norm(v)\n",
    "    v /= np.linalg.norm(v)\n",
    "    Qi = np.eye(2) - 2*v.reshape(-1,1)@v.reshape(1,-1)\n",
    "    R[i:i+2] = Qi@R[i:i+2]\n",
    "    Q[:,i:i+2] = Q[:,i:i+2]@Qi\n",
    "  return Q, R\n",
    "\n",
    "# корректность:\n",
    "np.random.seed(42)\n",
    "\n",
    "m = np.random.randint(102,201)\n",
    "n = np.random.randint(100,m)\n",
    "A = np.random.rand(m,n) * np.random.randint(1,102)\n",
    "Q, R = QR(A)\n",
    "\n",
    "newRow = np.random.rand(n) * np.random.randint(1,102)\n",
    "Anew = np.concatenate([A, newRow.reshape(1,-1)], axis=0)\n",
    "Qtest, Rtest = QRrow(Q,R,newRow)\n",
    "assert(np.allclose(Qtest@Rtest,Anew) and np.allclose(Qtest@Qtest.T,np.eye(m+1)) and np.allclose(Rtest, np.triu(Rtest)))"
   ]
  },
  {
   "cell_type": "code",
   "execution_count": 457,
   "metadata": {},
   "outputs": [
    {
     "name": "stdout",
     "output_type": "stream",
     "text": [
      "QRrow | Total time: 0.553, Average time: 0.005529\n",
      "QR    | Total time: 7.659, Average time: 0.076592\n"
     ]
    }
   ],
   "source": [
    "def testQR(AQRV):\n",
    "  startT = time.time()\n",
    "  for A, Q, R, V in AQRV:\n",
    "    Anew = np.concatenate([A, V.reshape(1,-1)], axis=0)\n",
    "    QR(Anew)\n",
    "  return time.time()-startT\n",
    "\n",
    "def testQRrow(AQRV):\n",
    "  startT = time.time()\n",
    "  for A, Q, R, V in AQRV:\n",
    "    QRrow(Q,R,V)\n",
    "  return time.time()-startT\n",
    "\n",
    "# создадим 'howMany' примеров\n",
    "np.random.seed(42)\n",
    "howMany = 100\n",
    "AQRV = []\n",
    "for i in range(howMany):\n",
    "  m = np.random.randint(102,201)\n",
    "  n = np.random.randint(100, m)\n",
    "  A = np.random.rand(m,n) * np.random.randint(1,102)\n",
    "  V = np.random.rand(n)   * np.random.randint(1,102)\n",
    "  AQRV.append((A, *QR(A), V))\n",
    "\n",
    "# Total time - суммарное время, Average - время на 1 пример\n",
    "QRrowTime = testQRrow(AQRV)\n",
    "print(f'QRrow | Total time: {QRrowTime:.3f}, Average time: {QRrowTime/len(AQRV):.6f}')\n",
    "\n",
    "QRTime    = testQR(AQRV)\n",
    "print(f'QR    | Total time: {QRTime:.3f}, Average time: {QRTime/len(AQRV):.6f}')"
   ]
  },
  {
   "cell_type": "markdown",
   "metadata": {},
   "source": [
    "### 3. конкатенация нового столбца\n",
    "\n",
    "добавим новый столбец в $R$: $R_{n+1}=Q^*A_{n+1}$  после чего выполним один шаг Хаусхолдера к данному $R_{n+1}$. То есть это частный случай п. 1. который очевидно ассимптотически быстрее.\n",
    "\n",
    "Сложность: самая трудоемкая операция (а их константное число всего) - получение итоговой $Q$ $\\Rightarrow \\approx O((m-n)^3)$"
   ]
  },
  {
   "cell_type": "code",
   "execution_count": 460,
   "metadata": {},
   "outputs": [],
   "source": [
    "def QRcol(Q,R,newCol):\n",
    "  m, n = R.shape\n",
    "  newCol = Q.T@newCol\n",
    "  v = newCol[n:].copy()\n",
    "  newCol[n] = np.linalg.norm(v)\n",
    "  newCol[n+1:] = np.zeros((m-n-1)) \n",
    "  v[0] -= np.linalg.norm(v)\n",
    "  v /= np.linalg.norm(v)\n",
    "  Qnew  = np.eye(m-n) - 2*v.reshape(-1,1)@v.reshape(1,-1)\n",
    "  Q[:,n:] = Q[:,n:]@Qnew\n",
    "  return Q, np.concatenate([R, newCol.reshape(-1,1)], axis=1)\n",
    "\n",
    "np.random.seed(42)\n",
    "\n",
    "m = np.random.randint(102,201)\n",
    "n = np.random.randint(100,m-1)\n",
    "A = np.random.rand(m,n) * np.random.randint(1,102)\n",
    "Q, R = QR(A)\n",
    "\n",
    "newCol = np.random.rand(A.shape[0]) * np.random.randint(1,102)\n",
    "Anew = np.concatenate([A, newCol.reshape(-1,1)], axis=1)\n",
    "Qtest, Rtest = QRcol(Q,R,newCol)\n",
    "assert(np.allclose(Qtest@Rtest,Anew) and np.allclose(Qtest@Qtest.T,np.eye(m)) and np.allclose(Rtest, np.triu(Rtest)))"
   ]
  },
  {
   "cell_type": "code",
   "execution_count": 461,
   "metadata": {},
   "outputs": [
    {
     "name": "stdout",
     "output_type": "stream",
     "text": [
      "QRcol | Total time: 0.018, Average time: 0.000179\n",
      "QR    | Total time: 7.690, Average time: 0.076898\n"
     ]
    }
   ],
   "source": [
    "def testQR(AQRV):\n",
    "  startT = time.time()\n",
    "  for A, Q, R, V in AQRV:\n",
    "    Anew = np.concatenate([A, V.reshape(-1,1)], axis=1)\n",
    "    QR(Anew)\n",
    "  return time.time()-startT\n",
    "\n",
    "def testQRcol(AQRV):\n",
    "  startT = time.time()\n",
    "  for A, Q, R, V in AQRV:\n",
    "    QRcol(Q,R,V)\n",
    "  return time.time()-startT\n",
    "\n",
    "# создадим 'howMany' примеров\n",
    "np.random.seed(42)\n",
    "howMany = 100\n",
    "AQRV = []\n",
    "for i in range(howMany):\n",
    "  m = np.random.randint(102,201)\n",
    "  n = np.random.randint(100, m-1)\n",
    "  A = np.random.rand(m,n) * np.random.randint(1,102)\n",
    "  V = np.random.rand(m)   * np.random.randint(1,102)\n",
    "  AQRV.append((A, *QR(A), V))\n",
    "\n",
    "# Total time - суммарное время, Average - время на 1 пример\n",
    "QRcolTime = testQRcol(AQRV)\n",
    "print(f'QRcol | Total time: {QRcolTime:.3f}, Average time: {QRcolTime/len(AQRV):.6f}')\n",
    "\n",
    "QRTime    = testQR(AQRV)\n",
    "print(f'QR    | Total time: {QRTime:.3f}, Average time: {QRTime/len(AQRV):.6f}')"
   ]
  },
  {
   "cell_type": "markdown",
   "metadata": {},
   "source": [
    "## (2 pts) Получите сингулярное разложение и спектральную норму матрицы $A = u_1v_1^* + u_2v_2^*$, где $u_{1,2} \\in \\mathbb{C}^m, v_{1,2} \\in \\mathbb{C}^n$"
   ]
  },
  {
   "cell_type": "markdown",
   "metadata": {},
   "source": [
    "- $A^*Ax=v_1[(x,v_1(u_1,u_1)+v_2(u_1,u_2))]+v_2[(x,v_1(u_2,u_1)+v_2(u_2,u_2))]=\\lambda x\\Rightarrow x=v_1+cv_2\\Rightarrow$\n",
    "- $(v_1+cv_2,v_1(u_1,u_1)+v_2(u_1,u_2)) = \\lambda,\\ (v_1+cv_2,v_1(u_2,u_1)+v_2(u_2,u_2))=\\lambda c\\Rightarrow$\n",
    "- $a_1+a_2c=\\lambda,\\ b_1+b_2c=\\lambda c;\\quad a_i=(v_i,v_1(u_1,u_1)+v_2(u_1,u_2)),\\ b_i=(v_i,v_1(u_2,u_1)+v_2(u_2,u_2))\\Rightarrow$\n",
    "- $c_{\\pm} = \\dfrac{-(a_1-b_2)\\pm\\sqrt{(a_1-b_2)^2+4a_2b_1}}{2a_2},\\ \\lambda_{\\pm}=a_1+a_2c_{\\pm}\\Rightarrow$\n",
    "- $A=U\\Sigma V^*,\\ \\Sigma_{11}=\\lambda_+,\\ \\Sigma_{22}=\\lambda_-, \\Sigma_{ij\\notin\\{11,22\\}}=0,\\ V=(v_1+c_+v_2, v_1+c_-v_2, v_3,...,v_n)^*$ где $v_3,...v_n$ - дополненый (к $v_1+c_{\\pm}v_2$) ортогональный базис \n",
    "- $AA^*x=\\lambda_{\\pm} x\\Rightarrow$ точно таким же образом решаем систему и находим собственные $x=u_1+d_{\\pm}u_2\\Rightarrow U=(u_1+d_+u_2,u_1+d_-u_2,u_3,...,u_m)$, где $u_3,...,u_m$ - дополненый (к $u_1+d_{\\pm}u_2$) ортогональный базис.\n",
    "\n",
    "P.S. как решать эту задачу нормально? раз она 2pts, то должно быть что-то лучше..."
   ]
  },
  {
   "cell_type": "markdown",
   "metadata": {},
   "source": [
    "## (3 pts) Пусть $A$ такая матрица, что $a_{i,j} \\geq 0$ и $\\sum_{j}a_{i,j} = 1$ (сумма элементов вкаждой строке равна 1). Докажите, что $A$ имеет собственное значение $\\lambda=1$ и что все собственные значения $\\lambda_i$ таковы что $|\\lambda_i| \\le 1$  "
   ]
  },
  {
   "cell_type": "markdown",
   "metadata": {},
   "source": [
    "- $A\\vec1=\\vec1\\Rightarrow \\exists \\lambda=1\\Rightarrow A^k\\vec1=\\vec1\\Rightarrow\\forall k\\in\\mathbb{N}\\ [A^k]_{ij}\\leq1$\n",
    "- Пусть $\\exists \\|v\\|=1,| \\lambda|>1: Av=\\lambda v\\Rightarrow \\|A^kv\\|=|\\lambda|^k\\rightarrow\\infty\\Rightarrow\\exists k,i,j: [A^k]_{ij}>1$ (иначе $\\|A^kv\\|$ будет ограниченной), противоречие."
   ]
  },
  {
   "cell_type": "markdown",
   "metadata": {},
   "source": [
    "## (3 pts) Докажите, что нормальная матрица Эрмитова iff её собственные значения действительны. Докажите, что нормальная матрица унитарна iff все её собственные значения таковы что $|\\lambda| = 1$. \n"
   ]
  },
  {
   "cell_type": "markdown",
   "metadata": {},
   "source": [
    "$A^*A=AA^*\\Rightarrow A=QDQ^*,\\ D_{i\\ne j}=0$\n",
    "\n",
    "1) $A^*=A\\Leftrightarrow QDQ^*=QD^*Q^*\\Leftrightarrow D_{ii}\\in\\mathbb{R}$\n",
    "2) $A^*A=I\\Leftrightarrow QDD^*Q^*=I\\Leftrightarrow |D_{ii}|=1$\n",
    "   "
   ]
  },
  {
   "cell_type": "markdown",
   "metadata": {},
   "source": [
    "## (5 pts) Найдите аналитическое выражение для собственнных значений возмущённого Жорданова блока\n",
    "    \n",
    "  $$ J(\\varepsilon) =\n",
    "      \\begin{bmatrix}\n",
    "        \\lambda & 1 & & & 0 \\\\\n",
    "      0 & \\lambda & 1 & & \\\\\n",
    "        0 & 0 & \\ddots & \\ddots & \\\\\n",
    "        \\ldots & \\ldots & \\ldots & \\lambda & 1 \\\\\n",
    "        \\varepsilon & 0 & 0 & 0 & \\lambda  \\\\\n",
    "      \\end{bmatrix}_{n\\times n}\n",
    "  $$\n",
    "  \n",
    "  Прокомментируйте как собственные значения $J(0)$ возмущены для больших $n$? Что это говорит об устойчивости получения спектра матрицы через Жорданов блок?"
   ]
  },
  {
   "cell_type": "markdown",
   "metadata": {},
   "source": [
    "- $|J(\\varepsilon)-\\mu I|=(\\lambda-\\mu)^n+\\varepsilon(-1)^{n+1}=0\\Rightarrow\\mu=\\lambda-\\sqrt[n]{\\varepsilon(-1)^n}=\\lambda-\\varepsilon^{1/n}e^{(2k+n\\%2)\\pi i/n}=\\lambda-(1+\\frac{\\log(\\varepsilon)}{n})e^{(2k+n\\%2)\\pi i/n}+o(\\frac1n)$, где $n\\%2=n\\!\\!\\!\\mod\\!2$\n",
    "- $\\forall\\varepsilon,\\delta\\exists n:\\ \\max\\limits_k\\|\\lambda-\\mu_k\\|\\geq1-\\delta\\Rightarrow$ получение спектра не будет устойчивым, если предположить, что $\\|alg(X)-f(x)\\|\\approx\\|\\mu(J_X(\\varepsilon))-\\mu(J_X(0))\\|$"
   ]
  }
 ],
 "metadata": {
  "kernelspec": {
   "display_name": "Python 3 (ipykernel)",
   "language": "python",
   "name": "python3"
  },
  "language_info": {
   "codemirror_mode": {
    "name": "ipython",
    "version": 3
   },
   "file_extension": ".py",
   "mimetype": "text/x-python",
   "name": "python",
   "nbconvert_exporter": "python",
   "pygments_lexer": "ipython3",
   "version": "3.10.0"
  }
 },
 "nbformat": 4,
 "nbformat_minor": 2
}
